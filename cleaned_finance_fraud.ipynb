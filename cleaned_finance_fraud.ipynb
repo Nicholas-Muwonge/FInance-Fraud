{
 "cells": [
  {
   "cell_type": "code",
   "execution_count": 764,
   "id": "1fb08202",
   "metadata": {},
   "outputs": [],
   "source": [
    "#Finance_fraud detection analysis"
   ]
  },
  {
   "cell_type": "markdown",
   "id": "21c0c50e",
   "metadata": {},
   "source": [
    "Introduction about the finance_fraud_dataset\n",
    "\n",
    "The dataset comprises of 15 columns and 1050 financial transaction records collected for the purpose of analyzing and detection of any fraudulent activities. \n",
    "We're tasked to study and analyze the dataset for any missing values, wrong data formats, duplicates and any outliers.\n",
    "\n",
    "The dataset contains the following key features:\n",
    "1. Transaction information such as transaction IDs, Transaction dates and Amount transacted.\n",
    "2. Payment and Merchant details which represent how payments were made, the MerchantName,MerchantCategory and Location of the transaction\n",
    "3. Customer Profile such as the CustomerID, CustomerAge and CustomerGender.\n",
    "4. Fraud detection Label named IsFraud which indicates whether a transaction is suspected or confirmed as fraudulent though fields are inconsistently labeled.\n",
    "5. Device and Card metadata which reflects the DeviceType used and CardType relevant for fraud detection.\n",
    "\n",
    "It is clearly visible before any data manipulation that missing values are prevelant in every column, some fields are inconsistently formatted such as the Amount field, the dataset also has categorical inconsistencies thus its suitable for preprocessing and cleaning.\n"
   ]
  },
  {
   "cell_type": "code",
   "execution_count": 765,
   "id": "4354dda4",
   "metadata": {},
   "outputs": [
    {
     "data": {
      "text/plain": [
       "'\\nObjectives:\\n1. Load and preprocess the dataset.\\n2. Inspect the data for dataset for empty values, wrong data types, wrong formats, duplicates and outliers.\\n3. Analyze the data to find patterns and relationships.\\n4. Visualize the data to understand distributions and correlations.\\n5. Evaluate the model performance using appropriate metrics.\\n6. Document the findings and insights from the analysis.\\n7. Save the cleaned and processed data for future use.\\n8. Implement a basic machine learning model to predict fraud.  \\n'"
      ]
     },
     "execution_count": 765,
     "metadata": {},
     "output_type": "execute_result"
    }
   ],
   "source": [
    "'''\n",
    "Objectives:\n",
    "1. Load and preprocess the dataset.\n",
    "2. Inspect the data for dataset for empty values, wrong data types, wrong formats, duplicates and outliers.\n",
    "3. Analyze the data to find patterns and relationships.\n",
    "4. Visualize the data to understand distributions and correlations.\n",
    "5. Evaluate the model performance using appropriate metrics.\n",
    "6. Document the findings and insights from the analysis.\n",
    "7. Save the cleaned and processed data for future use.\n",
    "8. Implement a basic machine learning model to predict fraud.  \n",
    "'''"
   ]
  },
  {
   "cell_type": "code",
   "execution_count": 766,
   "id": "b425b0ea",
   "metadata": {},
   "outputs": [],
   "source": [
    "# Import necessary libraries\n",
    "import pandas as pd\n",
    "import numpy as np \n",
    "import matplotlib.pyplot as plt\n",
    "import seaborn as sns   \n",
    "from datetime import datetime"
   ]
  },
  {
   "cell_type": "code",
   "execution_count": 767,
   "id": "8be85661",
   "metadata": {},
   "outputs": [
    {
     "data": {
      "text/html": [
       "<div>\n",
       "<style scoped>\n",
       "    .dataframe tbody tr th:only-of-type {\n",
       "        vertical-align: middle;\n",
       "    }\n",
       "\n",
       "    .dataframe tbody tr th {\n",
       "        vertical-align: top;\n",
       "    }\n",
       "\n",
       "    .dataframe thead th {\n",
       "        text-align: right;\n",
       "    }\n",
       "</style>\n",
       "<table border=\"1\" class=\"dataframe\">\n",
       "  <thead>\n",
       "    <tr style=\"text-align: right;\">\n",
       "      <th></th>\n",
       "      <th>TransactionID</th>\n",
       "      <th>TransactionDate</th>\n",
       "      <th>CustomerID</th>\n",
       "      <th>Amount</th>\n",
       "      <th>Currency</th>\n",
       "      <th>PaymentMethod</th>\n",
       "      <th>MerchantName</th>\n",
       "      <th>MerchantCategory</th>\n",
       "      <th>Location</th>\n",
       "      <th>DeviceType</th>\n",
       "      <th>CardType</th>\n",
       "      <th>TransactionStatus</th>\n",
       "      <th>IsFraud</th>\n",
       "      <th>CustomerAge</th>\n",
       "      <th>CustomerGender</th>\n",
       "    </tr>\n",
       "  </thead>\n",
       "  <tbody>\n",
       "    <tr>\n",
       "      <th>0</th>\n",
       "      <td>308757.0</td>\n",
       "      <td>2024-04-21</td>\n",
       "      <td>NaN</td>\n",
       "      <td>NaN</td>\n",
       "      <td>UGX</td>\n",
       "      <td>BitCoin</td>\n",
       "      <td>Amazon</td>\n",
       "      <td>Gadgets</td>\n",
       "      <td>Cairo</td>\n",
       "      <td>ATM</td>\n",
       "      <td>Visa</td>\n",
       "      <td>Success</td>\n",
       "      <td>0</td>\n",
       "      <td>NaN</td>\n",
       "      <td>Female</td>\n",
       "    </tr>\n",
       "    <tr>\n",
       "      <th>1</th>\n",
       "      <td>455081.0</td>\n",
       "      <td>2024-05-16</td>\n",
       "      <td>CUST550</td>\n",
       "      <td>1042.55</td>\n",
       "      <td>1234</td>\n",
       "      <td>Wire Transfer</td>\n",
       "      <td>Jumia</td>\n",
       "      <td>Groceries</td>\n",
       "      <td>New York</td>\n",
       "      <td>POS</td>\n",
       "      <td>MasterCard</td>\n",
       "      <td>Success</td>\n",
       "      <td>0</td>\n",
       "      <td>NaN</td>\n",
       "      <td>X</td>\n",
       "    </tr>\n",
       "    <tr>\n",
       "      <th>2</th>\n",
       "      <td>309991.0</td>\n",
       "      <td>2024-01-05</td>\n",
       "      <td>NaN</td>\n",
       "      <td>NaN</td>\n",
       "      <td>EUR</td>\n",
       "      <td>BitCoin</td>\n",
       "      <td>NaN</td>\n",
       "      <td>XYZ</td>\n",
       "      <td>Cairo</td>\n",
       "      <td>POS</td>\n",
       "      <td>Amex</td>\n",
       "      <td>Failed</td>\n",
       "      <td>1</td>\n",
       "      <td>NaN</td>\n",
       "      <td>Other</td>\n",
       "    </tr>\n",
       "    <tr>\n",
       "      <th>3</th>\n",
       "      <td>723861.0</td>\n",
       "      <td>2024-01-02</td>\n",
       "      <td>NaN</td>\n",
       "      <td>2964.64</td>\n",
       "      <td>EUR</td>\n",
       "      <td>Credit Card</td>\n",
       "      <td>AliExpress</td>\n",
       "      <td>Clothing</td>\n",
       "      <td>Nairobi</td>\n",
       "      <td>Tablet</td>\n",
       "      <td>Amex</td>\n",
       "      <td>NaN</td>\n",
       "      <td>Y</td>\n",
       "      <td>39</td>\n",
       "      <td>Female</td>\n",
       "    </tr>\n",
       "    <tr>\n",
       "      <th>4</th>\n",
       "      <td>985029.0</td>\n",
       "      <td>2024-04-11</td>\n",
       "      <td>CUST144</td>\n",
       "      <td>NaN</td>\n",
       "      <td>1234</td>\n",
       "      <td>NaN</td>\n",
       "      <td>NaN</td>\n",
       "      <td>Groceries</td>\n",
       "      <td>Nairobi</td>\n",
       "      <td>Desktop</td>\n",
       "      <td>MasterCard</td>\n",
       "      <td>Failed</td>\n",
       "      <td>Yes</td>\n",
       "      <td>46</td>\n",
       "      <td>X</td>\n",
       "    </tr>\n",
       "    <tr>\n",
       "      <th>5</th>\n",
       "      <td>523927.0</td>\n",
       "      <td>32-13-2024</td>\n",
       "      <td>CUST303</td>\n",
       "      <td>NaN</td>\n",
       "      <td>USD</td>\n",
       "      <td>Debit Card</td>\n",
       "      <td>Jumia</td>\n",
       "      <td>Groceries</td>\n",
       "      <td>New York</td>\n",
       "      <td>Mobile</td>\n",
       "      <td>NaN</td>\n",
       "      <td>Success</td>\n",
       "      <td>N</td>\n",
       "      <td>NaN</td>\n",
       "      <td>NaN</td>\n",
       "    </tr>\n",
       "    <tr>\n",
       "      <th>6</th>\n",
       "      <td>228725.0</td>\n",
       "      <td>2024-01-04</td>\n",
       "      <td>CUST390</td>\n",
       "      <td>NaN</td>\n",
       "      <td>NaN</td>\n",
       "      <td>Debit Card</td>\n",
       "      <td>eBay</td>\n",
       "      <td>Electronics</td>\n",
       "      <td>Nairobi</td>\n",
       "      <td>Mobile</td>\n",
       "      <td>BitcoinCard</td>\n",
       "      <td>Success</td>\n",
       "      <td>1</td>\n",
       "      <td>NaN</td>\n",
       "      <td>Female</td>\n",
       "    </tr>\n",
       "    <tr>\n",
       "      <th>7</th>\n",
       "      <td>344181.0</td>\n",
       "      <td>2024-02-13</td>\n",
       "      <td>NaN</td>\n",
       "      <td>NaN</td>\n",
       "      <td>KES</td>\n",
       "      <td>BitCoin</td>\n",
       "      <td>NaN</td>\n",
       "      <td>NaN</td>\n",
       "      <td>Unknown</td>\n",
       "      <td>Desktop</td>\n",
       "      <td>BitcoinCard</td>\n",
       "      <td>In Progress</td>\n",
       "      <td>Yes</td>\n",
       "      <td>NaN</td>\n",
       "      <td>Male</td>\n",
       "    </tr>\n",
       "    <tr>\n",
       "      <th>8</th>\n",
       "      <td>978821.0</td>\n",
       "      <td>2024-06-16</td>\n",
       "      <td>CUST836</td>\n",
       "      <td>NaN</td>\n",
       "      <td>UGX</td>\n",
       "      <td>Wire Transfer</td>\n",
       "      <td>AliExpress</td>\n",
       "      <td>Clothing</td>\n",
       "      <td>Cairo</td>\n",
       "      <td>PC</td>\n",
       "      <td>BitcoinCard</td>\n",
       "      <td>NaN</td>\n",
       "      <td>N</td>\n",
       "      <td>NaN</td>\n",
       "      <td>Male</td>\n",
       "    </tr>\n",
       "    <tr>\n",
       "      <th>9</th>\n",
       "      <td>545334.0</td>\n",
       "      <td>2024-05-02</td>\n",
       "      <td>NaN</td>\n",
       "      <td>NaN</td>\n",
       "      <td>USD</td>\n",
       "      <td>Credit Card</td>\n",
       "      <td>AliExpress</td>\n",
       "      <td>Clothing</td>\n",
       "      <td>NaN</td>\n",
       "      <td>Mobile</td>\n",
       "      <td>BitcoinCard</td>\n",
       "      <td>In Progress</td>\n",
       "      <td>Yes</td>\n",
       "      <td>NaN</td>\n",
       "      <td>Other</td>\n",
       "    </tr>\n",
       "  </tbody>\n",
       "</table>\n",
       "</div>"
      ],
      "text/plain": [
       "   TransactionID TransactionDate CustomerID   Amount Currency  PaymentMethod  \\\n",
       "0       308757.0      2024-04-21        NaN      NaN      UGX        BitCoin   \n",
       "1       455081.0      2024-05-16    CUST550  1042.55     1234  Wire Transfer   \n",
       "2       309991.0      2024-01-05        NaN      NaN      EUR        BitCoin   \n",
       "3       723861.0      2024-01-02        NaN  2964.64      EUR    Credit Card   \n",
       "4       985029.0      2024-04-11    CUST144      NaN     1234            NaN   \n",
       "5       523927.0      32-13-2024    CUST303      NaN      USD     Debit Card   \n",
       "6       228725.0      2024-01-04    CUST390      NaN      NaN     Debit Card   \n",
       "7       344181.0      2024-02-13        NaN      NaN      KES        BitCoin   \n",
       "8       978821.0      2024-06-16    CUST836      NaN      UGX  Wire Transfer   \n",
       "9       545334.0      2024-05-02        NaN      NaN      USD    Credit Card   \n",
       "\n",
       "  MerchantName MerchantCategory  Location DeviceType     CardType  \\\n",
       "0       Amazon          Gadgets     Cairo        ATM         Visa   \n",
       "1        Jumia        Groceries  New York        POS   MasterCard   \n",
       "2          NaN              XYZ     Cairo        POS         Amex   \n",
       "3   AliExpress         Clothing   Nairobi     Tablet         Amex   \n",
       "4          NaN        Groceries   Nairobi    Desktop   MasterCard   \n",
       "5        Jumia        Groceries  New York     Mobile          NaN   \n",
       "6         eBay      Electronics   Nairobi     Mobile  BitcoinCard   \n",
       "7          NaN              NaN   Unknown    Desktop  BitcoinCard   \n",
       "8   AliExpress         Clothing     Cairo         PC  BitcoinCard   \n",
       "9   AliExpress         Clothing       NaN     Mobile  BitcoinCard   \n",
       "\n",
       "  TransactionStatus IsFraud CustomerAge CustomerGender  \n",
       "0           Success       0         NaN         Female  \n",
       "1           Success       0         NaN              X  \n",
       "2            Failed       1         NaN          Other  \n",
       "3               NaN       Y          39         Female  \n",
       "4            Failed     Yes          46              X  \n",
       "5           Success       N         NaN            NaN  \n",
       "6           Success       1         NaN         Female  \n",
       "7       In Progress     Yes         NaN           Male  \n",
       "8               NaN       N         NaN           Male  \n",
       "9       In Progress     Yes         NaN          Other  "
      ]
     },
     "execution_count": 767,
     "metadata": {},
     "output_type": "execute_result"
    }
   ],
   "source": [
    "# Load the dataset to perform initial inspection.\n",
    "df = pd.read_csv('finance_fraud_data.csv')\n",
    "\n",
    "#Initial inspection of the dataset\n",
    "df.head(10)"
   ]
  },
  {
   "cell_type": "code",
   "execution_count": 768,
   "id": "842543b2",
   "metadata": {},
   "outputs": [
    {
     "data": {
      "text/plain": [
       "(1050, 15)"
      ]
     },
     "execution_count": 768,
     "metadata": {},
     "output_type": "execute_result"
    }
   ],
   "source": [
    "#Shape of the dataset\n",
    "df.shape"
   ]
  },
  {
   "cell_type": "code",
   "execution_count": 769,
   "id": "c5d5548f",
   "metadata": {},
   "outputs": [
    {
     "name": "stdout",
     "output_type": "stream",
     "text": [
      "<class 'pandas.core.frame.DataFrame'>\n",
      "RangeIndex: 1050 entries, 0 to 1049\n",
      "Data columns (total 15 columns):\n",
      " #   Column             Non-Null Count  Dtype  \n",
      "---  ------             --------------  -----  \n",
      " 0   TransactionID      1040 non-null   float64\n",
      " 1   TransactionDate    1040 non-null   object \n",
      " 2   CustomerID         338 non-null    object \n",
      " 3   Amount             270 non-null    object \n",
      " 4   Currency           874 non-null    object \n",
      " 5   PaymentMethod      885 non-null    object \n",
      " 6   MerchantName       860 non-null    object \n",
      " 7   MerchantCategory   890 non-null    object \n",
      " 8   Location           895 non-null    object \n",
      " 9   DeviceType         903 non-null    object \n",
      " 10  CardType           866 non-null    object \n",
      " 11  TransactionStatus  848 non-null    object \n",
      " 12  IsFraud            798 non-null    object \n",
      " 13  CustomerAge        261 non-null    object \n",
      " 14  CustomerGender     850 non-null    object \n",
      "dtypes: float64(1), object(14)\n",
      "memory usage: 123.2+ KB\n"
     ]
    }
   ],
   "source": [
    "#More initial inspection.\n",
    "df.info()"
   ]
  },
  {
   "cell_type": "code",
   "execution_count": 770,
   "id": "a2bf00c6",
   "metadata": {},
   "outputs": [
    {
     "data": {
      "text/html": [
       "<div>\n",
       "<style scoped>\n",
       "    .dataframe tbody tr th:only-of-type {\n",
       "        vertical-align: middle;\n",
       "    }\n",
       "\n",
       "    .dataframe tbody tr th {\n",
       "        vertical-align: top;\n",
       "    }\n",
       "\n",
       "    .dataframe thead th {\n",
       "        text-align: right;\n",
       "    }\n",
       "</style>\n",
       "<table border=\"1\" class=\"dataframe\">\n",
       "  <thead>\n",
       "    <tr style=\"text-align: right;\">\n",
       "      <th></th>\n",
       "      <th>TransactionID</th>\n",
       "    </tr>\n",
       "  </thead>\n",
       "  <tbody>\n",
       "    <tr>\n",
       "      <th>count</th>\n",
       "      <td>1040.000000</td>\n",
       "    </tr>\n",
       "    <tr>\n",
       "      <th>mean</th>\n",
       "      <td>560874.938462</td>\n",
       "    </tr>\n",
       "    <tr>\n",
       "      <th>std</th>\n",
       "      <td>257444.600279</td>\n",
       "    </tr>\n",
       "    <tr>\n",
       "      <th>min</th>\n",
       "      <td>103225.000000</td>\n",
       "    </tr>\n",
       "    <tr>\n",
       "      <th>25%</th>\n",
       "      <td>349641.000000</td>\n",
       "    </tr>\n",
       "    <tr>\n",
       "      <th>50%</th>\n",
       "      <td>557243.500000</td>\n",
       "    </tr>\n",
       "    <tr>\n",
       "      <th>75%</th>\n",
       "      <td>786388.750000</td>\n",
       "    </tr>\n",
       "    <tr>\n",
       "      <th>max</th>\n",
       "      <td>999308.000000</td>\n",
       "    </tr>\n",
       "  </tbody>\n",
       "</table>\n",
       "</div>"
      ],
      "text/plain": [
       "       TransactionID\n",
       "count    1040.000000\n",
       "mean   560874.938462\n",
       "std    257444.600279\n",
       "min    103225.000000\n",
       "25%    349641.000000\n",
       "50%    557243.500000\n",
       "75%    786388.750000\n",
       "max    999308.000000"
      ]
     },
     "execution_count": 770,
     "metadata": {},
     "output_type": "execute_result"
    }
   ],
   "source": [
    "#Descriptive statistics of the dataset\n",
    "df.describe() #only returns numerical columns"
   ]
  },
  {
   "cell_type": "code",
   "execution_count": 771,
   "id": "8f1c231a",
   "metadata": {},
   "outputs": [
    {
     "data": {
      "text/html": [
       "<div>\n",
       "<style scoped>\n",
       "    .dataframe tbody tr th:only-of-type {\n",
       "        vertical-align: middle;\n",
       "    }\n",
       "\n",
       "    .dataframe tbody tr th {\n",
       "        vertical-align: top;\n",
       "    }\n",
       "\n",
       "    .dataframe thead th {\n",
       "        text-align: right;\n",
       "    }\n",
       "</style>\n",
       "<table border=\"1\" class=\"dataframe\">\n",
       "  <thead>\n",
       "    <tr style=\"text-align: right;\">\n",
       "      <th></th>\n",
       "      <th>TransactionID</th>\n",
       "      <th>TransactionDate</th>\n",
       "      <th>CustomerID</th>\n",
       "      <th>Amount</th>\n",
       "      <th>Currency</th>\n",
       "      <th>PaymentMethod</th>\n",
       "      <th>MerchantName</th>\n",
       "      <th>MerchantCategory</th>\n",
       "      <th>Location</th>\n",
       "      <th>DeviceType</th>\n",
       "      <th>CardType</th>\n",
       "      <th>TransactionStatus</th>\n",
       "      <th>IsFraud</th>\n",
       "      <th>CustomerAge</th>\n",
       "      <th>CustomerGender</th>\n",
       "    </tr>\n",
       "  </thead>\n",
       "  <tbody>\n",
       "    <tr>\n",
       "      <th>count</th>\n",
       "      <td>1040.000000</td>\n",
       "      <td>1040</td>\n",
       "      <td>338</td>\n",
       "      <td>270</td>\n",
       "      <td>874</td>\n",
       "      <td>885</td>\n",
       "      <td>860</td>\n",
       "      <td>890</td>\n",
       "      <td>895</td>\n",
       "      <td>903</td>\n",
       "      <td>866</td>\n",
       "      <td>848</td>\n",
       "      <td>798</td>\n",
       "      <td>261</td>\n",
       "      <td>850</td>\n",
       "    </tr>\n",
       "    <tr>\n",
       "      <th>unique</th>\n",
       "      <td>NaN</td>\n",
       "      <td>182</td>\n",
       "      <td>271</td>\n",
       "      <td>254</td>\n",
       "      <td>6</td>\n",
       "      <td>6</td>\n",
       "      <td>5</td>\n",
       "      <td>5</td>\n",
       "      <td>6</td>\n",
       "      <td>6</td>\n",
       "      <td>5</td>\n",
       "      <td>4</td>\n",
       "      <td>8</td>\n",
       "      <td>53</td>\n",
       "      <td>4</td>\n",
       "    </tr>\n",
       "    <tr>\n",
       "      <th>top</th>\n",
       "      <td>NaN</td>\n",
       "      <td>2024-04-23</td>\n",
       "      <td>CUST770</td>\n",
       "      <td>4590.8</td>\n",
       "      <td>1234</td>\n",
       "      <td>Debit Card</td>\n",
       "      <td>Shopify</td>\n",
       "      <td>Groceries</td>\n",
       "      <td>Cairo</td>\n",
       "      <td>PC</td>\n",
       "      <td>BitcoinCard</td>\n",
       "      <td>Failed</td>\n",
       "      <td>Maybe</td>\n",
       "      <td>63</td>\n",
       "      <td>X</td>\n",
       "    </tr>\n",
       "    <tr>\n",
       "      <th>freq</th>\n",
       "      <td>NaN</td>\n",
       "      <td>14</td>\n",
       "      <td>4</td>\n",
       "      <td>2</td>\n",
       "      <td>188</td>\n",
       "      <td>169</td>\n",
       "      <td>181</td>\n",
       "      <td>182</td>\n",
       "      <td>172</td>\n",
       "      <td>168</td>\n",
       "      <td>203</td>\n",
       "      <td>234</td>\n",
       "      <td>136</td>\n",
       "      <td>8</td>\n",
       "      <td>242</td>\n",
       "    </tr>\n",
       "    <tr>\n",
       "      <th>mean</th>\n",
       "      <td>560874.938462</td>\n",
       "      <td>NaN</td>\n",
       "      <td>NaN</td>\n",
       "      <td>NaN</td>\n",
       "      <td>NaN</td>\n",
       "      <td>NaN</td>\n",
       "      <td>NaN</td>\n",
       "      <td>NaN</td>\n",
       "      <td>NaN</td>\n",
       "      <td>NaN</td>\n",
       "      <td>NaN</td>\n",
       "      <td>NaN</td>\n",
       "      <td>NaN</td>\n",
       "      <td>NaN</td>\n",
       "      <td>NaN</td>\n",
       "    </tr>\n",
       "    <tr>\n",
       "      <th>std</th>\n",
       "      <td>257444.600279</td>\n",
       "      <td>NaN</td>\n",
       "      <td>NaN</td>\n",
       "      <td>NaN</td>\n",
       "      <td>NaN</td>\n",
       "      <td>NaN</td>\n",
       "      <td>NaN</td>\n",
       "      <td>NaN</td>\n",
       "      <td>NaN</td>\n",
       "      <td>NaN</td>\n",
       "      <td>NaN</td>\n",
       "      <td>NaN</td>\n",
       "      <td>NaN</td>\n",
       "      <td>NaN</td>\n",
       "      <td>NaN</td>\n",
       "    </tr>\n",
       "    <tr>\n",
       "      <th>min</th>\n",
       "      <td>103225.000000</td>\n",
       "      <td>NaN</td>\n",
       "      <td>NaN</td>\n",
       "      <td>NaN</td>\n",
       "      <td>NaN</td>\n",
       "      <td>NaN</td>\n",
       "      <td>NaN</td>\n",
       "      <td>NaN</td>\n",
       "      <td>NaN</td>\n",
       "      <td>NaN</td>\n",
       "      <td>NaN</td>\n",
       "      <td>NaN</td>\n",
       "      <td>NaN</td>\n",
       "      <td>NaN</td>\n",
       "      <td>NaN</td>\n",
       "    </tr>\n",
       "    <tr>\n",
       "      <th>25%</th>\n",
       "      <td>349641.000000</td>\n",
       "      <td>NaN</td>\n",
       "      <td>NaN</td>\n",
       "      <td>NaN</td>\n",
       "      <td>NaN</td>\n",
       "      <td>NaN</td>\n",
       "      <td>NaN</td>\n",
       "      <td>NaN</td>\n",
       "      <td>NaN</td>\n",
       "      <td>NaN</td>\n",
       "      <td>NaN</td>\n",
       "      <td>NaN</td>\n",
       "      <td>NaN</td>\n",
       "      <td>NaN</td>\n",
       "      <td>NaN</td>\n",
       "    </tr>\n",
       "    <tr>\n",
       "      <th>50%</th>\n",
       "      <td>557243.500000</td>\n",
       "      <td>NaN</td>\n",
       "      <td>NaN</td>\n",
       "      <td>NaN</td>\n",
       "      <td>NaN</td>\n",
       "      <td>NaN</td>\n",
       "      <td>NaN</td>\n",
       "      <td>NaN</td>\n",
       "      <td>NaN</td>\n",
       "      <td>NaN</td>\n",
       "      <td>NaN</td>\n",
       "      <td>NaN</td>\n",
       "      <td>NaN</td>\n",
       "      <td>NaN</td>\n",
       "      <td>NaN</td>\n",
       "    </tr>\n",
       "    <tr>\n",
       "      <th>75%</th>\n",
       "      <td>786388.750000</td>\n",
       "      <td>NaN</td>\n",
       "      <td>NaN</td>\n",
       "      <td>NaN</td>\n",
       "      <td>NaN</td>\n",
       "      <td>NaN</td>\n",
       "      <td>NaN</td>\n",
       "      <td>NaN</td>\n",
       "      <td>NaN</td>\n",
       "      <td>NaN</td>\n",
       "      <td>NaN</td>\n",
       "      <td>NaN</td>\n",
       "      <td>NaN</td>\n",
       "      <td>NaN</td>\n",
       "      <td>NaN</td>\n",
       "    </tr>\n",
       "    <tr>\n",
       "      <th>max</th>\n",
       "      <td>999308.000000</td>\n",
       "      <td>NaN</td>\n",
       "      <td>NaN</td>\n",
       "      <td>NaN</td>\n",
       "      <td>NaN</td>\n",
       "      <td>NaN</td>\n",
       "      <td>NaN</td>\n",
       "      <td>NaN</td>\n",
       "      <td>NaN</td>\n",
       "      <td>NaN</td>\n",
       "      <td>NaN</td>\n",
       "      <td>NaN</td>\n",
       "      <td>NaN</td>\n",
       "      <td>NaN</td>\n",
       "      <td>NaN</td>\n",
       "    </tr>\n",
       "  </tbody>\n",
       "</table>\n",
       "</div>"
      ],
      "text/plain": [
       "        TransactionID TransactionDate CustomerID  Amount Currency  \\\n",
       "count     1040.000000            1040        338     270      874   \n",
       "unique            NaN             182        271     254        6   \n",
       "top               NaN      2024-04-23    CUST770  4590.8     1234   \n",
       "freq              NaN              14          4       2      188   \n",
       "mean    560874.938462             NaN        NaN     NaN      NaN   \n",
       "std     257444.600279             NaN        NaN     NaN      NaN   \n",
       "min     103225.000000             NaN        NaN     NaN      NaN   \n",
       "25%     349641.000000             NaN        NaN     NaN      NaN   \n",
       "50%     557243.500000             NaN        NaN     NaN      NaN   \n",
       "75%     786388.750000             NaN        NaN     NaN      NaN   \n",
       "max     999308.000000             NaN        NaN     NaN      NaN   \n",
       "\n",
       "       PaymentMethod MerchantName MerchantCategory Location DeviceType  \\\n",
       "count            885          860              890      895        903   \n",
       "unique             6            5                5        6          6   \n",
       "top       Debit Card      Shopify        Groceries    Cairo         PC   \n",
       "freq             169          181              182      172        168   \n",
       "mean             NaN          NaN              NaN      NaN        NaN   \n",
       "std              NaN          NaN              NaN      NaN        NaN   \n",
       "min              NaN          NaN              NaN      NaN        NaN   \n",
       "25%              NaN          NaN              NaN      NaN        NaN   \n",
       "50%              NaN          NaN              NaN      NaN        NaN   \n",
       "75%              NaN          NaN              NaN      NaN        NaN   \n",
       "max              NaN          NaN              NaN      NaN        NaN   \n",
       "\n",
       "           CardType TransactionStatus IsFraud CustomerAge CustomerGender  \n",
       "count           866               848     798         261            850  \n",
       "unique            5                 4       8          53              4  \n",
       "top     BitcoinCard            Failed   Maybe          63              X  \n",
       "freq            203               234     136           8            242  \n",
       "mean            NaN               NaN     NaN         NaN            NaN  \n",
       "std             NaN               NaN     NaN         NaN            NaN  \n",
       "min             NaN               NaN     NaN         NaN            NaN  \n",
       "25%             NaN               NaN     NaN         NaN            NaN  \n",
       "50%             NaN               NaN     NaN         NaN            NaN  \n",
       "75%             NaN               NaN     NaN         NaN            NaN  \n",
       "max             NaN               NaN     NaN         NaN            NaN  "
      ]
     },
     "execution_count": 771,
     "metadata": {},
     "output_type": "execute_result"
    }
   ],
   "source": [
    "#Further descriptive statistics of all columns in the dataset\n",
    "df.describe(include='all') #returns all columns, including categorical ones"
   ]
  },
  {
   "cell_type": "code",
   "execution_count": 772,
   "id": "c21c4efc",
   "metadata": {},
   "outputs": [
    {
     "data": {
      "text/plain": [
       "TransactionID        float64\n",
       "TransactionDate       object\n",
       "CustomerID            object\n",
       "Amount                object\n",
       "Currency              object\n",
       "PaymentMethod         object\n",
       "MerchantName          object\n",
       "MerchantCategory      object\n",
       "Location              object\n",
       "DeviceType            object\n",
       "CardType              object\n",
       "TransactionStatus     object\n",
       "IsFraud               object\n",
       "CustomerAge           object\n",
       "CustomerGender        object\n",
       "dtype: object"
      ]
     },
     "execution_count": 772,
     "metadata": {},
     "output_type": "execute_result"
    }
   ],
   "source": [
    "#Check for data types of each column\n",
    "df.dtypes"
   ]
  },
  {
   "cell_type": "code",
   "execution_count": 773,
   "id": "41ff0f7a",
   "metadata": {},
   "outputs": [
    {
     "data": {
      "text/plain": [
       "TransactionID         10\n",
       "TransactionDate       10\n",
       "CustomerID           712\n",
       "Amount               780\n",
       "Currency             176\n",
       "PaymentMethod        165\n",
       "MerchantName         190\n",
       "MerchantCategory     160\n",
       "Location             155\n",
       "DeviceType           147\n",
       "CardType             184\n",
       "TransactionStatus    202\n",
       "IsFraud              252\n",
       "CustomerAge          789\n",
       "CustomerGender       200\n",
       "dtype: int64"
      ]
     },
     "execution_count": 773,
     "metadata": {},
     "output_type": "execute_result"
    }
   ],
   "source": [
    "#Check for null values before changing data types\n",
    "df.isnull().sum()"
   ]
  },
  {
   "cell_type": "code",
   "execution_count": 774,
   "id": "f8ea6deb",
   "metadata": {},
   "outputs": [
    {
     "data": {
      "text/plain": [
       "TransactionID        float64\n",
       "TransactionDate       object\n",
       "CustomerID            object\n",
       "Amount               float64\n",
       "Currency              object\n",
       "PaymentMethod         object\n",
       "MerchantName          object\n",
       "MerchantCategory      object\n",
       "Location              object\n",
       "DeviceType            object\n",
       "CardType              object\n",
       "TransactionStatus     object\n",
       "IsFraud               object\n",
       "CustomerAge           object\n",
       "CustomerGender        object\n",
       "dtype: object"
      ]
     },
     "execution_count": 774,
     "metadata": {},
     "output_type": "execute_result"
    }
   ],
   "source": [
    "#Convert 'Amount' column to numeric type\n",
    "#First convert words to numbers\n",
    "from word2number import w2n\n",
    "def clean_amount(value):\n",
    "    try:\n",
    "        return float(value)\n",
    "    except:\n",
    "        try:\n",
    "            return w2n.word_to_num(str(value))\n",
    "        except:\n",
    "            return None  # Return None if conversion fails   \n",
    "#Then convert to numeric type\n",
    "df['Amount'] = pd.to_numeric(df['Amount'], errors='coerce')\n",
    "#Check the data types again\n",
    "df.dtypes"
   ]
  },
  {
   "cell_type": "code",
   "execution_count": 775,
   "id": "912cb5f8",
   "metadata": {},
   "outputs": [
    {
     "data": {
      "text/plain": [
       "TransactionID         10\n",
       "TransactionDate       10\n",
       "CustomerID           712\n",
       "Amount               781\n",
       "Currency             176\n",
       "PaymentMethod        165\n",
       "MerchantName         190\n",
       "MerchantCategory     160\n",
       "Location             155\n",
       "DeviceType           147\n",
       "CardType             184\n",
       "TransactionStatus    202\n",
       "IsFraud              252\n",
       "CustomerAge          789\n",
       "CustomerGender       200\n",
       "dtype: int64"
      ]
     },
     "execution_count": 775,
     "metadata": {},
     "output_type": "execute_result"
    }
   ],
   "source": [
    "#Checking for missing values\n",
    "df.isnull().sum()"
   ]
  },
  {
   "cell_type": "code",
   "execution_count": 776,
   "id": "6db534ef",
   "metadata": {},
   "outputs": [
    {
     "data": {
      "text/plain": [
       "TransactionDate       10\n",
       "Amount               781\n",
       "Currency             176\n",
       "PaymentMethod        165\n",
       "MerchantName         190\n",
       "MerchantCategory     160\n",
       "Location             155\n",
       "DeviceType           147\n",
       "CardType             184\n",
       "TransactionStatus    202\n",
       "IsFraud              252\n",
       "CustomerGender       200\n",
       "dtype: int64"
      ]
     },
     "execution_count": 776,
     "metadata": {},
     "output_type": "execute_result"
    }
   ],
   "source": [
    "#Handling missing values.\n",
    "#Drop unnecessary columns immediately such as TransactionID, TransactionDate, CustomerID, CustomerAge.\n",
    "df.drop(['TransactionID', 'CustomerID', 'CustomerAge'], axis=1, inplace=True)\n",
    "\n",
    "#Check for total number of misssing values again\n",
    "df.isnull().sum()\n"
   ]
  },
  {
   "cell_type": "code",
   "execution_count": 777,
   "id": "5cfe0a99",
   "metadata": {},
   "outputs": [
    {
     "data": {
      "text/plain": [
       "TransactionDate        0\n",
       "Amount               781\n",
       "Currency               0\n",
       "PaymentMethod          0\n",
       "MerchantName           0\n",
       "MerchantCategory       0\n",
       "Location               0\n",
       "DeviceType             0\n",
       "CardType               0\n",
       "TransactionStatus      0\n",
       "IsFraud                0\n",
       "CustomerGender         0\n",
       "dtype: int64"
      ]
     },
     "execution_count": 777,
     "metadata": {},
     "output_type": "execute_result"
    }
   ],
   "source": [
    "import warnings\n",
    "warnings.filterwarnings(\"ignore\") \n",
    "\n",
    "#Fill missing values in categorical columns with mode\n",
    "categorical_columns = df.select_dtypes(include=['object']).columns\n",
    "for column in categorical_columns:\n",
    "    df[column].fillna(df[column].mode()[0], inplace=True)\n",
    "\n",
    "#Check for missing values again\n",
    "df.isnull().sum()"
   ]
  },
  {
   "cell_type": "code",
   "execution_count": 778,
   "id": "713a6eb8",
   "metadata": {},
   "outputs": [
    {
     "data": {
      "text/plain": [
       "TransactionDate      0\n",
       "Amount               0\n",
       "Currency             0\n",
       "PaymentMethod        0\n",
       "MerchantName         0\n",
       "MerchantCategory     0\n",
       "Location             0\n",
       "DeviceType           0\n",
       "CardType             0\n",
       "TransactionStatus    0\n",
       "IsFraud              0\n",
       "CustomerGender       0\n",
       "Month                0\n",
       "dtype: int64"
      ]
     },
     "execution_count": 778,
     "metadata": {},
     "output_type": "execute_result"
    }
   ],
   "source": [
    "#Fill missing values in Amount column with mean of the month\n",
    "#Ensure 'TransactionDate' is in datetime format\n",
    "df['TransactionDate'] = pd.to_datetime(df['TransactionDate'], yearfirst=True, errors='coerce')\n",
    "#Find mode of valid dates\n",
    "valid_dates_mode = df['TransactionDate'].mode()[0]  # Get the mode of the valid dates\n",
    "#Replace invalid dates(NaT) with mode\n",
    "df['TransactionDate'].fillna(valid_dates_mode, inplace=True)    \n",
    "#Extract month from 'TransactionDate'\n",
    "df['Month'] = df['TransactionDate'].dt.month\n",
    "#Fill missing 'Amount' values with the mean of the corresponding month\n",
    "df['Amount'] = df.groupby('Month')['Amount'].transform(lambda x: x.fillna(x.mean()))\n",
    "\n",
    "#Check for missing values again\n",
    "df.isnull().sum()   "
   ]
  },
  {
   "cell_type": "code",
   "execution_count": 779,
   "id": "c432838d",
   "metadata": {},
   "outputs": [],
   "source": [
    "#Handling data with wrong formats.\n",
    "#Further cleaning for Currency column, MerchantCategory column, Location column, IsFraud column, and CustomerGender column\n",
    "\n",
    "#1. Replace 'XYZ' in MerchantCategory with mode\n",
    "merchant_code = df['MerchantCategory'].mode()[0] # Get the mode of the MerchantCategory column\n",
    "df['MerchantCategory'] = df['MerchantCategory'].replace('XYZ', merchant_code)\n",
    "\n",
    "#2. Normalize 'IsFraud' column to just '1' and '0'\n",
    "def normalize_isFraud(val):\n",
    "    val = str(val).strip().lower()\n",
    "    if val in ['yes', '1', 'true', 'y', 'maybe', 'possible']:\n",
    "        return 1\n",
    "    elif val in ['no', '0', 'false', 'n', 'never']:\n",
    "        return 0\n",
    "    else:\n",
    "        return None  # Return None for unrecognized values\n",
    "df['IsFraud'] = df['IsFraud'].apply(normalize_isFraud)\n",
    "\n",
    "#3. Replace 'X' in 'CustomerGender' column with 'Other'\n",
    "df['CustomerGender'] = df['CustomerGender'].replace('X', 'Other')\n",
    "\n",
    "#4. Clean 'Location' column by replacing 'Unknown' with mode to eliminate any noise\n",
    "df['Location'] = df['Location'].replace('Unknown', df['Location'].mode()[0])\n",
    "\n",
    "#5. Clean 'PaymentMethod' column by replacing 'Unknown' with mode \n",
    "df['PaymentMethod'] = df['PaymentMethod'].replace('Unknown', df['PaymentMethod'].mode()[0]) \n",
    "\n",
    "#6. Clean 'CardType' column by replacing 'Unknown' with mode \n",
    "df['CardType'] = df['CardType'].replace('Unknown', df['CardType'].mode()[0])    \n",
    "\n",
    "#7. Clean 'Currency' column by replacing '1234' and 'Money' with mode of the month\n",
    "df['Month'] = df['TransactionDate'].dt.month\n",
    "df['Currency'] = df['Currency'].replace(['1234', 'Money'], np.nan)  # Replace '1234' and 'Money' with NaN\n",
    "currency_mode = df.groupby(['Month', 'Location'])['Currency'].transform(lambda x: x.mode()[0] if not x.mode().empty else 'UGX')\n",
    "df['Currency'] = df['Currency'].fillna(currency_mode)   \n"
   ]
  },
  {
   "cell_type": "code",
   "execution_count": 780,
   "id": "bfaba460",
   "metadata": {},
   "outputs": [
    {
     "data": {
      "text/html": [
       "<div>\n",
       "<style scoped>\n",
       "    .dataframe tbody tr th:only-of-type {\n",
       "        vertical-align: middle;\n",
       "    }\n",
       "\n",
       "    .dataframe tbody tr th {\n",
       "        vertical-align: top;\n",
       "    }\n",
       "\n",
       "    .dataframe thead th {\n",
       "        text-align: right;\n",
       "    }\n",
       "</style>\n",
       "<table border=\"1\" class=\"dataframe\">\n",
       "  <thead>\n",
       "    <tr style=\"text-align: right;\">\n",
       "      <th></th>\n",
       "      <th>TransactionDate</th>\n",
       "      <th>Amount</th>\n",
       "      <th>Currency</th>\n",
       "      <th>PaymentMethod</th>\n",
       "      <th>MerchantName</th>\n",
       "      <th>MerchantCategory</th>\n",
       "      <th>Location</th>\n",
       "      <th>DeviceType</th>\n",
       "      <th>CardType</th>\n",
       "      <th>TransactionStatus</th>\n",
       "      <th>IsFraud</th>\n",
       "      <th>CustomerGender</th>\n",
       "      <th>Month</th>\n",
       "    </tr>\n",
       "  </thead>\n",
       "  <tbody>\n",
       "    <tr>\n",
       "      <th>0</th>\n",
       "      <td>2024-04-21</td>\n",
       "      <td>2576.829459</td>\n",
       "      <td>UGX</td>\n",
       "      <td>BitCoin</td>\n",
       "      <td>Amazon</td>\n",
       "      <td>Gadgets</td>\n",
       "      <td>Cairo</td>\n",
       "      <td>ATM</td>\n",
       "      <td>Visa</td>\n",
       "      <td>Success</td>\n",
       "      <td>0</td>\n",
       "      <td>Female</td>\n",
       "      <td>4</td>\n",
       "    </tr>\n",
       "    <tr>\n",
       "      <th>1</th>\n",
       "      <td>2024-05-16</td>\n",
       "      <td>1042.550000</td>\n",
       "      <td>KES</td>\n",
       "      <td>Wire Transfer</td>\n",
       "      <td>Jumia</td>\n",
       "      <td>Groceries</td>\n",
       "      <td>New York</td>\n",
       "      <td>POS</td>\n",
       "      <td>MasterCard</td>\n",
       "      <td>Success</td>\n",
       "      <td>0</td>\n",
       "      <td>Other</td>\n",
       "      <td>5</td>\n",
       "    </tr>\n",
       "    <tr>\n",
       "      <th>2</th>\n",
       "      <td>2024-01-05</td>\n",
       "      <td>2424.438571</td>\n",
       "      <td>EUR</td>\n",
       "      <td>BitCoin</td>\n",
       "      <td>Shopify</td>\n",
       "      <td>Groceries</td>\n",
       "      <td>Cairo</td>\n",
       "      <td>POS</td>\n",
       "      <td>Amex</td>\n",
       "      <td>Failed</td>\n",
       "      <td>1</td>\n",
       "      <td>Other</td>\n",
       "      <td>1</td>\n",
       "    </tr>\n",
       "    <tr>\n",
       "      <th>3</th>\n",
       "      <td>2024-01-02</td>\n",
       "      <td>2964.640000</td>\n",
       "      <td>EUR</td>\n",
       "      <td>Credit Card</td>\n",
       "      <td>AliExpress</td>\n",
       "      <td>Clothing</td>\n",
       "      <td>Nairobi</td>\n",
       "      <td>Tablet</td>\n",
       "      <td>Amex</td>\n",
       "      <td>Failed</td>\n",
       "      <td>1</td>\n",
       "      <td>Female</td>\n",
       "      <td>1</td>\n",
       "    </tr>\n",
       "    <tr>\n",
       "      <th>4</th>\n",
       "      <td>2024-04-11</td>\n",
       "      <td>2576.829459</td>\n",
       "      <td>KES</td>\n",
       "      <td>Debit Card</td>\n",
       "      <td>Shopify</td>\n",
       "      <td>Groceries</td>\n",
       "      <td>Nairobi</td>\n",
       "      <td>Desktop</td>\n",
       "      <td>MasterCard</td>\n",
       "      <td>Failed</td>\n",
       "      <td>1</td>\n",
       "      <td>Other</td>\n",
       "      <td>4</td>\n",
       "    </tr>\n",
       "    <tr>\n",
       "      <th>5</th>\n",
       "      <td>2024-04-23</td>\n",
       "      <td>2576.829459</td>\n",
       "      <td>USD</td>\n",
       "      <td>Debit Card</td>\n",
       "      <td>Jumia</td>\n",
       "      <td>Groceries</td>\n",
       "      <td>New York</td>\n",
       "      <td>Mobile</td>\n",
       "      <td>BitcoinCard</td>\n",
       "      <td>Success</td>\n",
       "      <td>0</td>\n",
       "      <td>Other</td>\n",
       "      <td>4</td>\n",
       "    </tr>\n",
       "    <tr>\n",
       "      <th>6</th>\n",
       "      <td>2024-01-04</td>\n",
       "      <td>2424.438571</td>\n",
       "      <td>EUR</td>\n",
       "      <td>Debit Card</td>\n",
       "      <td>eBay</td>\n",
       "      <td>Electronics</td>\n",
       "      <td>Nairobi</td>\n",
       "      <td>Mobile</td>\n",
       "      <td>BitcoinCard</td>\n",
       "      <td>Success</td>\n",
       "      <td>1</td>\n",
       "      <td>Female</td>\n",
       "      <td>1</td>\n",
       "    </tr>\n",
       "    <tr>\n",
       "      <th>7</th>\n",
       "      <td>2024-02-13</td>\n",
       "      <td>2498.911622</td>\n",
       "      <td>KES</td>\n",
       "      <td>BitCoin</td>\n",
       "      <td>Shopify</td>\n",
       "      <td>Groceries</td>\n",
       "      <td>Cairo</td>\n",
       "      <td>Desktop</td>\n",
       "      <td>BitcoinCard</td>\n",
       "      <td>In Progress</td>\n",
       "      <td>1</td>\n",
       "      <td>Male</td>\n",
       "      <td>2</td>\n",
       "    </tr>\n",
       "    <tr>\n",
       "      <th>8</th>\n",
       "      <td>2024-06-16</td>\n",
       "      <td>2776.630204</td>\n",
       "      <td>UGX</td>\n",
       "      <td>Wire Transfer</td>\n",
       "      <td>AliExpress</td>\n",
       "      <td>Clothing</td>\n",
       "      <td>Cairo</td>\n",
       "      <td>PC</td>\n",
       "      <td>BitcoinCard</td>\n",
       "      <td>Failed</td>\n",
       "      <td>0</td>\n",
       "      <td>Male</td>\n",
       "      <td>6</td>\n",
       "    </tr>\n",
       "    <tr>\n",
       "      <th>9</th>\n",
       "      <td>2024-05-02</td>\n",
       "      <td>2213.137091</td>\n",
       "      <td>USD</td>\n",
       "      <td>Credit Card</td>\n",
       "      <td>AliExpress</td>\n",
       "      <td>Clothing</td>\n",
       "      <td>Cairo</td>\n",
       "      <td>Mobile</td>\n",
       "      <td>BitcoinCard</td>\n",
       "      <td>In Progress</td>\n",
       "      <td>1</td>\n",
       "      <td>Other</td>\n",
       "      <td>5</td>\n",
       "    </tr>\n",
       "  </tbody>\n",
       "</table>\n",
       "</div>"
      ],
      "text/plain": [
       "  TransactionDate       Amount Currency  PaymentMethod MerchantName  \\\n",
       "0      2024-04-21  2576.829459      UGX        BitCoin       Amazon   \n",
       "1      2024-05-16  1042.550000      KES  Wire Transfer        Jumia   \n",
       "2      2024-01-05  2424.438571      EUR        BitCoin      Shopify   \n",
       "3      2024-01-02  2964.640000      EUR    Credit Card   AliExpress   \n",
       "4      2024-04-11  2576.829459      KES     Debit Card      Shopify   \n",
       "5      2024-04-23  2576.829459      USD     Debit Card        Jumia   \n",
       "6      2024-01-04  2424.438571      EUR     Debit Card         eBay   \n",
       "7      2024-02-13  2498.911622      KES        BitCoin      Shopify   \n",
       "8      2024-06-16  2776.630204      UGX  Wire Transfer   AliExpress   \n",
       "9      2024-05-02  2213.137091      USD    Credit Card   AliExpress   \n",
       "\n",
       "  MerchantCategory  Location DeviceType     CardType TransactionStatus  \\\n",
       "0          Gadgets     Cairo        ATM         Visa           Success   \n",
       "1        Groceries  New York        POS   MasterCard           Success   \n",
       "2        Groceries     Cairo        POS         Amex            Failed   \n",
       "3         Clothing   Nairobi     Tablet         Amex            Failed   \n",
       "4        Groceries   Nairobi    Desktop   MasterCard            Failed   \n",
       "5        Groceries  New York     Mobile  BitcoinCard           Success   \n",
       "6      Electronics   Nairobi     Mobile  BitcoinCard           Success   \n",
       "7        Groceries     Cairo    Desktop  BitcoinCard       In Progress   \n",
       "8         Clothing     Cairo         PC  BitcoinCard            Failed   \n",
       "9         Clothing     Cairo     Mobile  BitcoinCard       In Progress   \n",
       "\n",
       "   IsFraud CustomerGender  Month  \n",
       "0        0         Female      4  \n",
       "1        0          Other      5  \n",
       "2        1          Other      1  \n",
       "3        1         Female      1  \n",
       "4        1          Other      4  \n",
       "5        0          Other      4  \n",
       "6        1         Female      1  \n",
       "7        1           Male      2  \n",
       "8        0           Male      6  \n",
       "9        1          Other      5  "
      ]
     },
     "execution_count": 780,
     "metadata": {},
     "output_type": "execute_result"
    }
   ],
   "source": [
    "df.head(10)"
   ]
  },
  {
   "cell_type": "code",
   "execution_count": 781,
   "id": "6381301f",
   "metadata": {},
   "outputs": [
    {
     "name": "stdout",
     "output_type": "stream",
     "text": [
      "Number of duplicate rows: 48\n"
     ]
    }
   ],
   "source": [
    "#CHeck for duplicates\n",
    "duplicates = df.duplicated()\n",
    "if duplicates.any():\n",
    "    print(f\"Number of duplicate rows: {duplicates.sum()}\")\n",
    "    df.drop_duplicates(inplace=True)\n",
    "else:\n",
    "    print(\"No duplicate rows found.\")   \n"
   ]
  },
  {
   "cell_type": "code",
   "execution_count": 782,
   "id": "223e5ac9",
   "metadata": {},
   "outputs": [
    {
     "name": "stdout",
     "output_type": "stream",
     "text": [
      "No duplicate rows found after handling.\n"
     ]
    }
   ],
   "source": [
    "#Handle duplicate rows\n",
    "df.drop_duplicates(inplace=True) \n",
    "#Check for duplicates again\n",
    "duplicates = df.duplicated()\n",
    "if duplicates.any():\n",
    "    print(f\"Number of duplicate rows after handling: {duplicates.sum()}\")\n",
    "else:\n",
    "    print(\"No duplicate rows found after handling.\")    "
   ]
  },
  {
   "cell_type": "code",
   "execution_count": 783,
   "id": "ce879668",
   "metadata": {},
   "outputs": [
    {
     "name": "stdout",
     "output_type": "stream",
     "text": [
      "<class 'pandas.core.frame.DataFrame'>\n",
      "RangeIndex: 1002 entries, 0 to 1001\n",
      "Data columns (total 13 columns):\n",
      " #   Column             Non-Null Count  Dtype         \n",
      "---  ------             --------------  -----         \n",
      " 0   TransactionDate    1002 non-null   datetime64[ns]\n",
      " 1   Amount             1002 non-null   float64       \n",
      " 2   Currency           1002 non-null   object        \n",
      " 3   PaymentMethod      1002 non-null   object        \n",
      " 4   MerchantName       1002 non-null   object        \n",
      " 5   MerchantCategory   1002 non-null   object        \n",
      " 6   Location           1002 non-null   object        \n",
      " 7   DeviceType         1002 non-null   object        \n",
      " 8   CardType           1002 non-null   object        \n",
      " 9   TransactionStatus  1002 non-null   object        \n",
      " 10  IsFraud            1002 non-null   int64         \n",
      " 11  CustomerGender     1002 non-null   object        \n",
      " 12  Month              1002 non-null   int32         \n",
      "dtypes: datetime64[ns](1), float64(1), int32(1), int64(1), object(9)\n",
      "memory usage: 98.0+ KB\n"
     ]
    }
   ],
   "source": [
    "#Check the dataset info again\n",
    "df = df.reset_index(drop=True)  # Reset index after dropping duplicates\n",
    "df.info()\n",
    " "
   ]
  },
  {
   "cell_type": "code",
   "execution_count": 784,
   "id": "49844caf",
   "metadata": {},
   "outputs": [],
   "source": [
    "#Encode categorical columns into numerical values\n",
    "from sklearn.preprocessing import LabelEncoder\n",
    "label_encoders = {}  # Dictionary to store label encoders for each column\n",
    "for col in ['Currency', 'MerchantCategory', 'Location', 'CustomerGender', 'IsFraud', 'PaymentMethod', 'CardType', 'TransactionStatus', 'DeviceType', 'TransactionDate']: \n",
    "    le = LabelEncoder()\n",
    "    df[col] = le.fit_transform(df[col].astype(str))  # Convert to string to avoid errors\n",
    "    label_encoders[col] = le  # Store the label encoder for future use  \n"
   ]
  },
  {
   "cell_type": "code",
   "execution_count": 785,
   "id": "c6fc5518",
   "metadata": {},
   "outputs": [
    {
     "data": {
      "image/png": "[encoded data removed]",
      "text/plain": [
       "<Figure size 1000x800 with 1 Axes>"
      ]
     },
     "metadata": {},
     "output_type": "display_data"
    }
   ],
   "source": [
    "#Plotting a correlation heatmap\n",
    "plt.figure(figsize=(10, 8))\n",
    "sns.heatmap(df.select_dtypes(include=np.number).corr(), annot=True, cbar=False, cmap='coolwarm', fmt='.2f')\n",
    "plt.title('Correlation Heatmap')\n",
    "plt.show()  \n"
   ]
  },
  {
   "cell_type": "code",
   "execution_count": 786,
   "id": "0af8f2e6",
   "metadata": {},
   "outputs": [
    {
     "data": {
      "image/png": "[encoded data removed]",
      "text/plain": [
       "<Figure size 800x600 with 1 Axes>"
      ]
     },
     "metadata": {},
     "output_type": "display_data"
    }
   ],
   "source": [
    "#Plot IsFraud distribution over Month\n",
    "plt.figure(figsize=(8, 6))\n",
    "sns.countplot(data=df, x='Month', hue='IsFraud', palette='viridis')\n",
    "plt.title('Fraud Distribution Over Months')\n",
    "plt.xticks(rotation=45)\n",
    "plt.xlabel('Month')\n",
    "plt.ylabel('Count')\n",
    "plt.legend(title='Is Fraud', loc='upper right')\n",
    "plt.tight_layout()\n",
    "plt.show()  "
   ]
  },
  {
   "cell_type": "code",
   "execution_count": 787,
   "id": "1071a6ca",
   "metadata": {},
   "outputs": [
    {
     "data": {
      "image/png": "[encoded data removed]",
      "text/plain": [
       "<Figure size 800x600 with 1 Axes>"
      ]
     },
     "metadata": {},
     "output_type": "display_data"
    }
   ],
   "source": [
    "#Plotting IsFraud distribution over CustomerGender\n",
    "plt.figure(figsize=(8, 6))\n",
    "sns.countplot(data=df, x='CustomerGender', hue='IsFraud', palette='viridis')\n",
    "plt.title('Fraud Distribution Over CustomerGender')\n",
    "plt.xlabel('CustomerGender')\n",
    "plt.ylabel('Count')\n",
    "plt.legend(title='Is Fraud', loc='upper right')\n",
    "plt.tight_layout()\n",
    "plt.show()    "
   ]
  },
  {
   "cell_type": "code",
   "execution_count": 788,
   "id": "51455bb2",
   "metadata": {},
   "outputs": [
    {
     "name": "stdout",
     "output_type": "stream",
     "text": [
      "['Female' 'Male' 'Other']\n"
     ]
    }
   ],
   "source": [
    "#Clarity on which number represents what CustomerGender\n",
    "print(label_encoders['CustomerGender'].classes_) "
   ]
  },
  {
   "cell_type": "code",
   "execution_count": 789,
   "id": "694e25d0",
   "metadata": {},
   "outputs": [
    {
     "data": {
      "image/png": "[encoded data removed]",
      "text/plain": [
       "<Figure size 1000x600 with 1 Axes>"
      ]
     },
     "metadata": {},
     "output_type": "display_data"
    }
   ],
   "source": [
    "#Plotting IsFraud distribution over Currency\n",
    "plt.figure(figsize=(10, 6))\n",
    "sns.countplot(data=df, x='Currency', hue='IsFraud', palette='viridis')\n",
    "plt.title('Fraud Distribution Against Currency')\n",
    "plt.xlabel('Currency')\n",
    "plt.ylabel('Count')     \n",
    "plt.legend(title='Is Fraud', loc='upper right')\n",
    "plt.tight_layout()\n",
    "plt.show()  "
   ]
  },
  {
   "cell_type": "code",
   "execution_count": 790,
   "id": "c581b58a",
   "metadata": {},
   "outputs": [
    {
     "name": "stdout",
     "output_type": "stream",
     "text": [
      "['EUR' 'KES' 'UGX' 'USD']\n"
     ]
    }
   ],
   "source": [
    "#Clarity on which number represents what Currency\n",
    "print(label_encoders['Currency'].classes_) "
   ]
  },
  {
   "cell_type": "code",
   "execution_count": 791,
   "id": "a855ffb0",
   "metadata": {},
   "outputs": [
    {
     "data": {
      "application/vnd.plotly.v1+json": {
       "config": {
        "plotlyServerURL": "https://plot.ly"
       },
       "data": [
        {
         "customdata": [
          [
           2,
           2,
           0
          ],
          [
           1,
           3,
           4
          ],
          [
           0,
           3,
           0
          ],
          [
           0,
           0,
           3
          ],
          [
           1,
           3,
           3
          ],
          [
           3,
           3,
           4
          ],
          [
           0,
           1,
           3
          ],
          [
           1,
           3,
           0
          ],
          [
           2,
           0,
           0
          ],
          [
           3,
           0,
           0
          ],
          [
           3,
           0,
           0
          ],
          [
           0,
           2,
           0
          ],
          [
           1,
           3,
           0
          ],
          [
           0,
           3,
           2
          ],
          [
           0,
           3,
           0
          ],
          [
           3,
           2,
           4
          ],
          [
           2,
           0,
           0
          ],
          [
           0,
           3,
           0
          ],
          [
           0,
           3,
           2
          ],
          [
           0,
           3,
           2
          ],
          [
           2,
           2,
           3
          ],
          [
           0,
           3,
           0
          ],
          [
           3,
           3,
           0
          ],
          [
           0,
           3,
           4
          ],
          [
           2,
           0,
           0
          ],
          [
           2,
           1,
           4
          ],
          [
           1,
           3,
           0
          ],
          [
           0,
           0,
           0
          ],
          [
           1,
           2,
           4
          ],
          [
           2,
           1,
           0
          ],
          [
           2,
           1,
           3
          ],
          [
           2,
           0,
           2
          ],
          [
           1,
           2,
           4
          ],
          [
           2,
           2,
           4
          ],
          [
           2,
           2,
           1
          ],
          [
           0,
           2,
           0
          ],
          [
           0,
           0,
           0
          ],
          [
           2,
           1,
           0
          ],
          [
           0,
           3,
           0
          ],
          [
           3,
           3,
           4
          ],
          [
           0,
           3,
           0
          ],
          [
           0,
           2,
           0
          ],
          [
           3,
           3,
           0
          ],
          [
           2,
           3,
           3
          ],
          [
           0,
           0,
           1
          ],
          [
           2,
           2,
           2
          ],
          [
           0,
           1,
           0
          ],
          [
           2,
           2,
           4
          ],
          [
           1,
           3,
           3
          ],
          [
           3,
           3,
           3
          ],
          [
           0,
           3,
           2
          ],
          [
           2,
           3,
           0
          ],
          [
           0,
           1,
           0
          ],
          [
           0,
           3,
           0
          ],
          [
           1,
           1,
           0
          ],
          [
           2,
           0,
           1
          ],
          [
           0,
           0,
           2
          ],
          [
           2,
           3,
           0
          ],
          [
           1,
           3,
           4
          ],
          [
           2,
           3,
           4
          ],
          [
           0,
           2,
           0
          ],
          [
           3,
           0,
           1
          ],
          [
           3,
           1,
           2
          ],
          [
           1,
           3,
           0
          ],
          [
           0,
           0,
           0
          ],
          [
           0,
           3,
           0
          ],
          [
           3,
           3,
           4
          ],
          [
           0,
           3,
           2
          ],
          [
           0,
           3,
           0
          ],
          [
           3,
           1,
           4
          ],
          [
           2,
           3,
           2
          ],
          [
           0,
           3,
           1
          ],
          [
           0,
           2,
           0
          ],
          [
           0,
           1,
           3
          ],
          [
           1,
           3,
           0
          ],
          [
           3,
           3,
           2
          ],
          [
           2,
           2,
           0
          ],
          [
           3,
           0,
           0
          ],
          [
           3,
           3,
           2
          ],
          [
           0,
           3,
           0
          ],
          [
           0,
           0,
           0
          ],
          [
           1,
           3,
           4
          ],
          [
           1,
           3,
           3
          ],
          [
           3,
           3,
           2
          ],
          [
           1,
           1,
           4
          ],
          [
           2,
           2,
           0
          ],
          [
           2,
           3,
           2
          ],
          [
           0,
           0,
           0
          ],
          [
           3,
           1,
           1
          ],
          [
           0,
           3,
           0
          ],
          [
           0,
           0,
           3
          ],
          [
           1,
           3,
           0
          ],
          [
           1,
           3,
           1
          ],
          [
           1,
           3,
           4
          ],
          [
           2,
           2,
           3
          ],
          [
           1,
           2,
           2
          ],
          [
           2,
           3,
           3
          ],
          [
           2,
           1,
           0
          ],
          [
           2,
           3,
           4
          ],
          [
           2,
           3,
           0
          ],
          [
           3,
           3,
           1
          ],
          [
           3,
           2,
           0
          ],
          [
           2,
           3,
           4
          ],
          [
           0,
           1,
           1
          ],
          [
           0,
           3,
           0
          ],
          [
           0,
           3,
           0
          ],
          [
           2,
           1,
           1
          ],
          [
           1,
           0,
           4
          ],
          [
           0,
           3,
           0
          ],
          [
           1,
           1,
           0
          ],
          [
           0,
           3,
           0
          ],
          [
           1,
           3,
           0
          ],
          [
           1,
           1,
           0
          ],
          [
           2,
           3,
           1
          ],
          [
           2,
           2,
           0
          ],
          [
           1,
           0,
           0
          ],
          [
           3,
           2,
           4
          ],
          [
           0,
           2,
           3
          ],
          [
           1,
           2,
           1
          ],
          [
           2,
           1,
           1
          ],
          [
           2,
           3,
           3
          ],
          [
           0,
           3,
           0
          ],
          [
           3,
           3,
           0
          ],
          [
           2,
           3,
           2
          ],
          [
           1,
           2,
           0
          ],
          [
           2,
           3,
           0
          ],
          [
           2,
           3,
           1
          ],
          [
           1,
           3,
           0
          ],
          [
           1,
           2,
           0
          ],
          [
           0,
           2,
           0
          ],
          [
           0,
           3,
           0
          ],
          [
           3,
           3,
           4
          ],
          [
           0,
           0,
           4
          ],
          [
           1,
           3,
           1
          ],
          [
           2,
           3,
           1
          ],
          [
           0,
           3,
           1
          ],
          [
           0,
           3,
           0
          ],
          [
           3,
           0,
           2
          ],
          [
           0,
           2,
           2
          ],
          [
           1,
           3,
           4
          ],
          [
           2,
           3,
           0
          ],
          [
           2,
           1,
           0
          ],
          [
           0,
           2,
           3
          ],
          [
           3,
           3,
           0
          ],
          [
           0,
           1,
           0
          ],
          [
           2,
           3,
           0
          ],
          [
           2,
           3,
           4
          ],
          [
           3,
           3,
           0
          ],
          [
           2,
           1,
           2
          ],
          [
           2,
           1,
           0
          ],
          [
           2,
           0,
           3
          ],
          [
           3,
           1,
           0
          ],
          [
           1,
           0,
           2
          ],
          [
           2,
           1,
           4
          ],
          [
           3,
           0,
           0
          ],
          [
           0,
           3,
           0
          ],
          [
           2,
           1,
           4
          ],
          [
           1,
           0,
           3
          ],
          [
           1,
           3,
           0
          ],
          [
           1,
           0,
           2
          ],
          [
           3,
           1,
           0
          ],
          [
           0,
           1,
           0
          ],
          [
           1,
           1,
           4
          ],
          [
           2,
           3,
           4
          ],
          [
           2,
           1,
           4
          ],
          [
           0,
           3,
           3
          ],
          [
           3,
           3,
           0
          ],
          [
           1,
           3,
           3
          ],
          [
           3,
           1,
           0
          ],
          [
           0,
           0,
           0
          ],
          [
           1,
           3,
           2
          ],
          [
           1,
           3,
           1
          ],
          [
           0,
           2,
           1
          ],
          [
           1,
           3,
           4
          ],
          [
           1,
           3,
           4
          ],
          [
           0,
           3,
           1
          ],
          [
           1,
           1,
           4
          ],
          [
           1,
           3,
           2
          ],
          [
           1,
           1,
           1
          ],
          [
           2,
           1,
           0
          ],
          [
           3,
           3,
           1
          ],
          [
           3,
           0,
           0
          ],
          [
           2,
           0,
           0
          ],
          [
           3,
           3,
           2
          ],
          [
           2,
           1,
           3
          ],
          [
           0,
           0,
           2
          ],
          [
           0,
           1,
           3
          ],
          [
           0,
           3,
           0
          ],
          [
           2,
           1,
           4
          ],
          [
           0,
           1,
           0
          ],
          [
           0,
           2,
           0
          ],
          [
           3,
           3,
           1
          ],
          [
           1,
           0,
           2
          ],
          [
           3,
           0,
           0
          ],
          [
           3,
           1,
           4
          ],
          [
           1,
           3,
           2
          ],
          [
           1,
           1,
           4
          ],
          [
           1,
           2,
           1
          ],
          [
           3,
           3,
           1
          ],
          [
           2,
           3,
           1
          ],
          [
           3,
           3,
           3
          ],
          [
           0,
           0,
           1
          ],
          [
           2,
           2,
           0
          ],
          [
           0,
           0,
           0
          ],
          [
           2,
           3,
           0
          ],
          [
           1,
           2,
           4
          ],
          [
           1,
           3,
           3
          ],
          [
           3,
           3,
           4
          ],
          [
           2,
           0,
           2
          ],
          [
           2,
           2,
           0
          ],
          [
           2,
           3,
           4
          ],
          [
           1,
           3,
           4
          ],
          [
           0,
           3,
           2
          ],
          [
           2,
           3,
           0
          ],
          [
           1,
           1,
           3
          ],
          [
           2,
           2,
           2
          ],
          [
           1,
           0,
           2
          ],
          [
           3,
           3,
           4
          ],
          [
           1,
           1,
           3
          ],
          [
           1,
           1,
           0
          ],
          [
           1,
           0,
           0
          ],
          [
           1,
           0,
           3
          ],
          [
           0,
           3,
           1
          ],
          [
           3,
           0,
           0
          ],
          [
           3,
           3,
           0
          ],
          [
           0,
           3,
           0
          ],
          [
           2,
           0,
           1
          ],
          [
           0,
           3,
           1
          ],
          [
           1,
           1,
           0
          ],
          [
           2,
           3,
           0
          ],
          [
           3,
           1,
           0
          ],
          [
           0,
           0,
           0
          ],
          [
           1,
           0,
           1
          ],
          [
           3,
           3,
           4
          ],
          [
           2,
           0,
           1
          ],
          [
           0,
           0,
           0
          ],
          [
           0,
           2,
           2
          ],
          [
           2,
           3,
           0
          ],
          [
           0,
           3,
           0
          ],
          [
           1,
           3,
           2
          ],
          [
           0,
           3,
           0
          ],
          [
           2,
           2,
           0
          ],
          [
           1,
           3,
           4
          ],
          [
           3,
           3,
           1
          ],
          [
           2,
           3,
           0
          ],
          [
           2,
           0,
           1
          ],
          [
           2,
           2,
           0
          ],
          [
           2,
           3,
           2
          ],
          [
           3,
           3,
           1
          ],
          [
           2,
           3,
           0
          ],
          [
           1,
           0,
           0
          ],
          [
           1,
           3,
           4
          ],
          [
           0,
           1,
           0
          ],
          [
           3,
           3,
           2
          ],
          [
           2,
           3,
           4
          ],
          [
           1,
           3,
           2
          ],
          [
           3,
           3,
           1
          ],
          [
           3,
           0,
           1
          ],
          [
           3,
           1,
           0
          ],
          [
           0,
           1,
           0
          ],
          [
           2,
           1,
           0
          ],
          [
           3,
           2,
           0
          ],
          [
           0,
           3,
           0
          ],
          [
           2,
           3,
           3
          ],
          [
           2,
           1,
           1
          ],
          [
           2,
           3,
           0
          ],
          [
           3,
           2,
           3
          ],
          [
           0,
           3,
           0
          ],
          [
           3,
           3,
           4
          ],
          [
           0,
           3,
           0
          ],
          [
           1,
           2,
           0
          ],
          [
           2,
           1,
           4
          ],
          [
           1,
           3,
           0
          ],
          [
           3,
           3,
           3
          ],
          [
           0,
           1,
           0
          ],
          [
           0,
           3,
           0
          ],
          [
           2,
           3,
           4
          ],
          [
           3,
           3,
           1
          ],
          [
           1,
           3,
           0
          ],
          [
           0,
           3,
           0
          ],
          [
           1,
           3,
           3
          ],
          [
           2,
           3,
           0
          ],
          [
           0,
           1,
           0
          ],
          [
           2,
           3,
           2
          ],
          [
           3,
           3,
           0
          ],
          [
           1,
           3,
           0
          ],
          [
           3,
           3,
           1
          ],
          [
           2,
           2,
           0
          ],
          [
           0,
           3,
           1
          ],
          [
           2,
           3,
           0
          ],
          [
           0,
           2,
           2
          ],
          [
           0,
           3,
           0
          ],
          [
           2,
           2,
           2
          ],
          [
           1,
           3,
           0
          ],
          [
           0,
           2,
           0
          ],
          [
           0,
           3,
           0
          ],
          [
           2,
           3,
           0
          ],
          [
           0,
           3,
           0
          ],
          [
           0,
           0,
           1
          ],
          [
           2,
           0,
           1
          ],
          [
           2,
           3,
           2
          ],
          [
           2,
           0,
           2
          ],
          [
           1,
           1,
           3
          ],
          [
           2,
           3,
           0
          ],
          [
           3,
           3,
           0
          ],
          [
           1,
           2,
           4
          ],
          [
           2,
           2,
           0
          ],
          [
           3,
           2,
           2
          ],
          [
           2,
           3,
           4
          ],
          [
           2,
           2,
           0
          ],
          [
           2,
           2,
           4
          ],
          [
           3,
           2,
           2
          ],
          [
           1,
           2,
           4
          ],
          [
           1,
           0,
           0
          ],
          [
           2,
           0,
           0
          ],
          [
           0,
           3,
           1
          ],
          [
           3,
           2,
           0
          ],
          [
           0,
           2,
           0
          ],
          [
           1,
           1,
           4
          ],
          [
           0,
           0,
           3
          ],
          [
           2,
           3,
           3
          ],
          [
           2,
           2,
           0
          ],
          [
           0,
           3,
           3
          ],
          [
           1,
           0,
           0
          ],
          [
           1,
           2,
           0
          ],
          [
           2,
           3,
           0
          ],
          [
           2,
           1,
           3
          ],
          [
           0,
           2,
           3
          ],
          [
           2,
           3,
           0
          ],
          [
           0,
           0,
           2
          ],
          [
           2,
           0,
           2
          ],
          [
           2,
           3,
           3
          ],
          [
           2,
           0,
           3
          ],
          [
           1,
           0,
           0
          ],
          [
           0,
           1,
           0
          ],
          [
           2,
           1,
           2
          ],
          [
           3,
           2,
           0
          ],
          [
           0,
           2,
           0
          ],
          [
           0,
           0,
           0
          ],
          [
           2,
           3,
           0
          ],
          [
           0,
           3,
           0
          ],
          [
           1,
           0,
           0
          ],
          [
           2,
           1,
           0
          ],
          [
           3,
           2,
           0
          ],
          [
           3,
           2,
           2
          ],
          [
           2,
           0,
           0
          ],
          [
           3,
           3,
           2
          ],
          [
           0,
           3,
           2
          ],
          [
           0,
           3,
           0
          ],
          [
           1,
           0,
           0
          ],
          [
           0,
           0,
           2
          ],
          [
           1,
           2,
           1
          ],
          [
           1,
           3,
           0
          ],
          [
           2,
           3,
           3
          ],
          [
           2,
           2,
           4
          ],
          [
           0,
           2,
           0
          ],
          [
           1,
           2,
           0
          ],
          [
           2,
           0,
           3
          ],
          [
           1,
           2,
           2
          ],
          [
           3,
           3,
           2
          ],
          [
           2,
           1,
           2
          ],
          [
           1,
           3,
           0
          ],
          [
           3,
           1,
           4
          ],
          [
           1,
           1,
           3
          ],
          [
           2,
           3,
           0
          ],
          [
           3,
           3,
           3
          ],
          [
           0,
           2,
           3
          ],
          [
           1,
           3,
           0
          ],
          [
           1,
           3,
           3
          ],
          [
           2,
           0,
           2
          ],
          [
           2,
           0,
           2
          ],
          [
           3,
           3,
           1
          ],
          [
           3,
           2,
           3
          ],
          [
           0,
           0,
           3
          ],
          [
           2,
           2,
           1
          ],
          [
           2,
           2,
           2
          ],
          [
           0,
           1,
           1
          ],
          [
           1,
           3,
           3
          ],
          [
           2,
           3,
           3
          ],
          [
           0,
           0,
           1
          ],
          [
           3,
           3,
           0
          ],
          [
           1,
           3,
           3
          ],
          [
           0,
           3,
           2
          ],
          [
           1,
           3,
           0
          ],
          [
           2,
           3,
           0
          ],
          [
           1,
           2,
           3
          ],
          [
           2,
           3,
           3
          ],
          [
           1,
           1,
           2
          ],
          [
           2,
           3,
           0
          ],
          [
           1,
           0,
           0
          ],
          [
           1,
           3,
           0
          ],
          [
           0,
           3,
           1
          ],
          [
           2,
           3,
           0
          ],
          [
           0,
           3,
           2
          ],
          [
           2,
           3,
           0
          ],
          [
           3,
           3,
           1
          ],
          [
           2,
           0,
           0
          ],
          [
           1,
           3,
           0
          ],
          [
           2,
           3,
           0
          ],
          [
           1,
           2,
           3
          ],
          [
           2,
           1,
           1
          ],
          [
           3,
           1,
           0
          ],
          [
           0,
           2,
           0
          ],
          [
           2,
           3,
           3
          ],
          [
           3,
           2,
           0
          ],
          [
           1,
           0,
           2
          ],
          [
           1,
           0,
           2
          ],
          [
           2,
           3,
           3
          ],
          [
           0,
           3,
           1
          ],
          [
           1,
           0,
           0
          ],
          [
           0,
           3,
           0
          ],
          [
           3,
           3,
           2
          ],
          [
           0,
           2,
           2
          ],
          [
           0,
           3,
           1
          ],
          [
           0,
           3,
           4
          ],
          [
           2,
           3,
           0
          ],
          [
           2,
           3,
           0
          ],
          [
           1,
           3,
           3
          ],
          [
           0,
           3,
           0
          ],
          [
           0,
           0,
           1
          ],
          [
           3,
           0,
           1
          ],
          [
           0,
           3,
           2
          ],
          [
           0,
           3,
           0
          ],
          [
           2,
           3,
           0
          ],
          [
           2,
           0,
           0
          ],
          [
           3,
           3,
           3
          ],
          [
           3,
           3,
           1
          ],
          [
           2,
           3,
           0
          ],
          [
           0,
           0,
           0
          ],
          [
           2,
           0,
           0
          ],
          [
           1,
           2,
           3
          ],
          [
           1,
           3,
           1
          ],
          [
           0,
           2,
           0
          ],
          [
           1,
           1,
           0
          ],
          [
           3,
           3,
           0
          ],
          [
           2,
           3,
           3
          ],
          [
           0,
           1,
           2
          ],
          [
           0,
           2,
           0
          ],
          [
           0,
           0,
           2
          ],
          [
           2,
           3,
           3
          ],
          [
           2,
           3,
           1
          ],
          [
           3,
           1,
           3
          ],
          [
           0,
           3,
           2
          ],
          [
           0,
           2,
           4
          ],
          [
           0,
           2,
           3
          ],
          [
           1,
           3,
           4
          ],
          [
           3,
           3,
           0
          ],
          [
           0,
           3,
           0
          ],
          [
           0,
           1,
           2
          ],
          [
           0,
           2,
           0
          ],
          [
           2,
           2,
           4
          ],
          [
           2,
           0,
           4
          ],
          [
           2,
           3,
           1
          ],
          [
           3,
           3,
           0
          ],
          [
           1,
           0,
           3
          ],
          [
           0,
           3,
           0
          ],
          [
           2,
           1,
           0
          ],
          [
           3,
           2,
           2
          ],
          [
           1,
           0,
           2
          ],
          [
           1,
           0,
           0
          ],
          [
           1,
           3,
           3
          ],
          [
           1,
           1,
           2
          ],
          [
           0,
           3,
           2
          ],
          [
           0,
           3,
           0
          ],
          [
           1,
           3,
           1
          ],
          [
           2,
           2,
           3
          ],
          [
           1,
           3,
           4
          ],
          [
           1,
           0,
           0
          ],
          [
           2,
           3,
           0
          ],
          [
           0,
           3,
           0
          ],
          [
           3,
           2,
           2
          ],
          [
           1,
           3,
           4
          ],
          [
           0,
           3,
           0
          ],
          [
           2,
           3,
           0
          ],
          [
           0,
           0,
           0
          ],
          [
           1,
           3,
           3
          ],
          [
           2,
           0,
           4
          ],
          [
           2,
           3,
           1
          ],
          [
           3,
           3,
           1
          ],
          [
           1,
           1,
           4
          ],
          [
           1,
           3,
           3
          ],
          [
           1,
           3,
           0
          ],
          [
           1,
           1,
           0
          ],
          [
           2,
           3,
           4
          ],
          [
           3,
           0,
           4
          ],
          [
           2,
           3,
           0
          ],
          [
           1,
           3,
           4
          ],
          [
           2,
           3,
           3
          ],
          [
           2,
           0,
           4
          ],
          [
           1,
           2,
           2
          ],
          [
           3,
           2,
           2
          ],
          [
           0,
           3,
           3
          ],
          [
           0,
           1,
           1
          ],
          [
           0,
           3,
           0
          ],
          [
           0,
           3,
           4
          ],
          [
           2,
           0,
           0
          ],
          [
           2,
           0,
           0
          ],
          [
           2,
           3,
           0
          ],
          [
           0,
           1,
           1
          ],
          [
           3,
           1,
           4
          ],
          [
           0,
           3,
           0
          ],
          [
           0,
           3,
           2
          ],
          [
           1,
           2,
           4
          ],
          [
           3,
           1,
           4
          ],
          [
           2,
           3,
           4
          ],
          [
           0,
           2,
           3
          ],
          [
           0,
           0,
           2
          ],
          [
           1,
           2,
           0
          ],
          [
           0,
           3,
           3
          ],
          [
           3,
           2,
           3
          ],
          [
           0,
           3,
           0
          ],
          [
           2,
           0,
           1
          ],
          [
           1,
           3,
           1
          ],
          [
           3,
           2,
           1
          ],
          [
           2,
           3,
           2
          ],
          [
           1,
           1,
           2
          ],
          [
           1,
           3,
           2
          ],
          [
           0,
           2,
           0
          ],
          [
           1,
           3,
           3
          ],
          [
           0,
           0,
           2
          ],
          [
           2,
           3,
           3
          ],
          [
           2,
           3,
           0
          ],
          [
           1,
           2,
           1
          ],
          [
           0,
           3,
           1
          ],
          [
           1,
           0,
           4
          ],
          [
           1,
           3,
           2
          ],
          [
           2,
           0,
           2
          ],
          [
           1,
           3,
           3
          ],
          [
           0,
           1,
           0
          ],
          [
           0,
           1,
           1
          ],
          [
           1,
           1,
           1
          ],
          [
           1,
           3,
           0
          ],
          [
           2,
           3,
           0
          ],
          [
           3,
           2,
           0
          ],
          [
           1,
           3,
           1
          ],
          [
           3,
           0,
           2
          ],
          [
           2,
           3,
           2
          ],
          [
           2,
           3,
           4
          ],
          [
           3,
           2,
           1
          ],
          [
           3,
           3,
           4
          ],
          [
           2,
           1,
           2
          ],
          [
           1,
           3,
           0
          ],
          [
           3,
           2,
           2
          ],
          [
           0,
           3,
           3
          ],
          [
           2,
           3,
           0
          ],
          [
           0,
           2,
           0
          ],
          [
           1,
           0,
           4
          ],
          [
           1,
           3,
           4
          ],
          [
           1,
           3,
           1
          ],
          [
           0,
           1,
           0
          ],
          [
           1,
           3,
           0
          ],
          [
           3,
           3,
           1
          ],
          [
           1,
           3,
           1
          ],
          [
           0,
           3,
           0
          ],
          [
           1,
           3,
           2
          ],
          [
           1,
           1,
           1
          ],
          [
           0,
           3,
           1
          ],
          [
           3,
           1,
           1
          ],
          [
           2,
           3,
           3
          ],
          [
           1,
           3,
           4
          ],
          [
           2,
           3,
           4
          ],
          [
           2,
           0,
           1
          ],
          [
           2,
           2,
           0
          ],
          [
           3,
           1,
           3
          ],
          [
           1,
           1,
           0
          ],
          [
           1,
           0,
           2
          ],
          [
           2,
           0,
           0
          ],
          [
           2,
           1,
           2
          ],
          [
           1,
           3,
           0
          ],
          [
           2,
           0,
           0
          ],
          [
           2,
           3,
           0
          ],
          [
           1,
           0,
           1
          ],
          [
           2,
           1,
           1
          ],
          [
           3,
           3,
           4
          ],
          [
           0,
           3,
           0
          ],
          [
           1,
           3,
           4
          ],
          [
           1,
           1,
           0
          ],
          [
           1,
           2,
           0
          ],
          [
           2,
           3,
           0
          ],
          [
           3,
           1,
           0
          ],
          [
           0,
           2,
           1
          ],
          [
           3,
           2,
           0
          ],
          [
           2,
           3,
           0
          ],
          [
           0,
           1,
           0
          ],
          [
           1,
           3,
           2
          ],
          [
           2,
           2,
           0
          ],
          [
           0,
           3,
           0
          ],
          [
           1,
           2,
           4
          ],
          [
           2,
           3,
           2
          ],
          [
           2,
           0,
           0
          ],
          [
           1,
           3,
           3
          ],
          [
           1,
           1,
           1
          ],
          [
           3,
           0,
           0
          ],
          [
           1,
           2,
           0
          ],
          [
           2,
           0,
           0
          ],
          [
           3,
           1,
           0
          ],
          [
           3,
           3,
           2
          ],
          [
           1,
           0,
           3
          ],
          [
           1,
           0,
           3
          ],
          [
           2,
           1,
           4
          ],
          [
           3,
           3,
           0
          ],
          [
           3,
           3,
           2
          ],
          [
           0,
           3,
           2
          ],
          [
           2,
           1,
           0
          ],
          [
           2,
           1,
           0
          ],
          [
           1,
           3,
           0
          ],
          [
           2,
           3,
           2
          ],
          [
           3,
           0,
           1
          ],
          [
           2,
           2,
           3
          ],
          [
           3,
           1,
           1
          ],
          [
           2,
           1,
           0
          ],
          [
           2,
           0,
           4
          ],
          [
           0,
           0,
           2
          ],
          [
           2,
           0,
           0
          ],
          [
           2,
           0,
           0
          ],
          [
           1,
           3,
           0
          ],
          [
           3,
           3,
           0
          ],
          [
           0,
           3,
           1
          ],
          [
           2,
           2,
           0
          ],
          [
           2,
           3,
           0
          ],
          [
           3,
           3,
           1
          ],
          [
           3,
           2,
           1
          ],
          [
           0,
           1,
           3
          ],
          [
           3,
           3,
           3
          ],
          [
           2,
           3,
           0
          ],
          [
           1,
           2,
           3
          ],
          [
           3,
           1,
           1
          ],
          [
           0,
           3,
           0
          ],
          [
           0,
           3,
           3
          ],
          [
           1,
           3,
           1
          ],
          [
           0,
           2,
           0
          ],
          [
           0,
           3,
           2
          ],
          [
           3,
           1,
           0
          ],
          [
           2,
           1,
           4
          ],
          [
           3,
           0,
           0
          ],
          [
           0,
           3,
           2
          ],
          [
           2,
           1,
           1
          ],
          [
           0,
           0,
           0
          ],
          [
           0,
           0,
           0
          ],
          [
           1,
           3,
           4
          ],
          [
           1,
           2,
           0
          ],
          [
           2,
           1,
           0
          ],
          [
           2,
           3,
           0
          ],
          [
           1,
           3,
           4
          ],
          [
           2,
           1,
           0
          ],
          [
           3,
           3,
           2
          ],
          [
           0,
           3,
           3
          ],
          [
           1,
           3,
           3
          ],
          [
           0,
           0,
           0
          ],
          [
           1,
           2,
           4
          ],
          [
           1,
           0,
           0
          ],
          [
           3,
           0,
           0
          ],
          [
           3,
           3,
           0
          ],
          [
           2,
           1,
           0
          ],
          [
           2,
           3,
           0
          ],
          [
           3,
           3,
           4
          ],
          [
           0,
           3,
           0
          ],
          [
           2,
           3,
           3
          ],
          [
           2,
           3,
           3
          ],
          [
           2,
           3,
           1
          ],
          [
           3,
           3,
           3
          ],
          [
           1,
           3,
           3
          ],
          [
           2,
           2,
           3
          ],
          [
           1,
           0,
           0
          ],
          [
           3,
           0,
           1
          ],
          [
           2,
           3,
           1
          ],
          [
           2,
           3,
           1
          ],
          [
           0,
           3,
           0
          ],
          [
           2,
           0,
           2
          ],
          [
           1,
           3,
           0
          ],
          [
           1,
           3,
           2
          ],
          [
           3,
           2,
           2
          ],
          [
           0,
           1,
           2
          ],
          [
           1,
           3,
           0
          ],
          [
           2,
           3,
           1
          ],
          [
           0,
           2,
           0
          ],
          [
           1,
           1,
           4
          ],
          [
           0,
           2,
           0
          ],
          [
           3,
           3,
           3
          ],
          [
           1,
           3,
           4
          ],
          [
           3,
           3,
           0
          ],
          [
           0,
           3,
           1
          ],
          [
           2,
           2,
           4
          ],
          [
           2,
           0,
           0
          ],
          [
           2,
           0,
           1
          ],
          [
           1,
           1,
           4
          ],
          [
           3,
           1,
           2
          ],
          [
           0,
           2,
           0
          ],
          [
           0,
           1,
           2
          ],
          [
           1,
           3,
           4
          ],
          [
           3,
           0,
           3
          ],
          [
           2,
           0,
           4
          ],
          [
           2,
           3,
           2
          ],
          [
           1,
           3,
           3
          ],
          [
           0,
           3,
           0
          ],
          [
           1,
           3,
           1
          ],
          [
           2,
           3,
           3
          ],
          [
           1,
           3,
           1
          ],
          [
           0,
           0,
           0
          ],
          [
           0,
           3,
           0
          ],
          [
           2,
           3,
           3
          ],
          [
           0,
           3,
           0
          ],
          [
           2,
           2,
           1
          ],
          [
           3,
           1,
           1
          ],
          [
           0,
           3,
           0
          ],
          [
           1,
           3,
           3
          ],
          [
           0,
           0,
           1
          ],
          [
           1,
           3,
           2
          ],
          [
           2,
           3,
           4
          ],
          [
           2,
           0,
           1
          ],
          [
           3,
           3,
           0
          ],
          [
           1,
           1,
           4
          ],
          [
           0,
           3,
           2
          ],
          [
           3,
           1,
           4
          ],
          [
           1,
           0,
           2
          ],
          [
           0,
           0,
           0
          ],
          [
           0,
           3,
           0
          ],
          [
           2,
           0,
           0
          ],
          [
           2,
           2,
           0
          ],
          [
           1,
           3,
           0
          ],
          [
           2,
           2,
           0
          ],
          [
           2,
           3,
           1
          ],
          [
           2,
           3,
           3
          ],
          [
           3,
           2,
           2
          ],
          [
           0,
           2,
           0
          ],
          [
           0,
           3,
           0
          ],
          [
           3,
           0,
           1
          ],
          [
           2,
           2,
           1
          ],
          [
           2,
           2,
           4
          ],
          [
           0,
           3,
           0
          ],
          [
           3,
           3,
           1
          ],
          [
           1,
           3,
           2
          ],
          [
           2,
           3,
           0
          ],
          [
           3,
           0,
           4
          ],
          [
           3,
           1,
           4
          ],
          [
           0,
           3,
           0
          ],
          [
           1,
           1,
           4
          ],
          [
           0,
           1,
           3
          ],
          [
           1,
           1,
           0
          ],
          [
           0,
           3,
           0
          ],
          [
           3,
           1,
           1
          ],
          [
           2,
           1,
           2
          ],
          [
           2,
           3,
           4
          ],
          [
           1,
           1,
           0
          ],
          [
           1,
           3,
           0
          ],
          [
           3,
           2,
           2
          ],
          [
           3,
           2,
           0
          ],
          [
           2,
           3,
           3
          ],
          [
           2,
           3,
           0
          ],
          [
           2,
           0,
           1
          ],
          [
           2,
           1,
           1
          ],
          [
           1,
           1,
           2
          ],
          [
           0,
           3,
           1
          ],
          [
           1,
           0,
           1
          ],
          [
           2,
           3,
           0
          ],
          [
           1,
           0,
           4
          ],
          [
           0,
           2,
           3
          ],
          [
           2,
           3,
           0
          ],
          [
           2,
           3,
           1
          ],
          [
           0,
           1,
           0
          ],
          [
           0,
           3,
           3
          ],
          [
           1,
           2,
           2
          ],
          [
           2,
           3,
           0
          ],
          [
           1,
           1,
           4
          ],
          [
           3,
           3,
           2
          ],
          [
           1,
           1,
           2
          ],
          [
           1,
           1,
           4
          ],
          [
           3,
           3,
           0
          ],
          [
           1,
           0,
           1
          ],
          [
           1,
           3,
           1
          ],
          [
           3,
           2,
           4
          ],
          [
           2,
           0,
           0
          ],
          [
           3,
           1,
           1
          ],
          [
           0,
           3,
           0
          ],
          [
           0,
           3,
           1
          ],
          [
           0,
           3,
           1
          ],
          [
           2,
           1,
           0
          ],
          [
           2,
           2,
           2
          ],
          [
           2,
           0,
           0
          ],
          [
           2,
           1,
           3
          ],
          [
           1,
           1,
           2
          ],
          [
           0,
           1,
           0
          ],
          [
           1,
           3,
           3
          ],
          [
           3,
           0,
           0
          ],
          [
           0,
           2,
           1
          ],
          [
           2,
           3,
           0
          ],
          [
           2,
           3,
           1
          ],
          [
           0,
           3,
           0
          ],
          [
           3,
           3,
           4
          ],
          [
           2,
           3,
           0
          ],
          [
           3,
           1,
           1
          ],
          [
           1,
           3,
           1
          ],
          [
           1,
           3,
           0
          ],
          [
           3,
           2,
           2
          ],
          [
           2,
           1,
           0
          ],
          [
           1,
           3,
           4
          ],
          [
           2,
           3,
           4
          ],
          [
           1,
           0,
           0
          ],
          [
           3,
           3,
           1
          ],
          [
           1,
           1,
           4
          ],
          [
           1,
           2,
           3
          ],
          [
           0,
           3,
           0
          ],
          [
           1,
           2,
           2
          ],
          [
           2,
           1,
           0
          ],
          [
           3,
           1,
           0
          ],
          [
           3,
           2,
           0
          ],
          [
           1,
           2,
           0
          ],
          [
           0,
           2,
           0
          ],
          [
           0,
           2,
           2
          ],
          [
           3,
           0,
           2
          ],
          [
           0,
           1,
           0
          ],
          [
           2,
           3,
           0
          ],
          [
           0,
           1,
           2
          ],
          [
           0,
           3,
           0
          ],
          [
           0,
           1,
           0
          ],
          [
           1,
           3,
           2
          ],
          [
           1,
           3,
           3
          ],
          [
           1,
           3,
           0
          ],
          [
           2,
           3,
           2
          ],
          [
           0,
           2,
           2
          ],
          [
           1,
           0,
           0
          ],
          [
           0,
           3,
           0
          ],
          [
           2,
           1,
           0
          ],
          [
           2,
           3,
           0
          ],
          [
           2,
           3,
           0
          ],
          [
           0,
           0,
           3
          ],
          [
           3,
           0,
           2
          ],
          [
           0,
           3,
           0
          ],
          [
           2,
           2,
           1
          ],
          [
           1,
           1,
           2
          ],
          [
           1,
           3,
           0
          ],
          [
           2,
           1,
           0
          ],
          [
           0,
           3,
           1
          ],
          [
           1,
           2,
           0
          ],
          [
           2,
           3,
           4
          ],
          [
           1,
           3,
           1
          ],
          [
           0,
           2,
           4
          ],
          [
           1,
           0,
           2
          ],
          [
           1,
           3,
           0
          ],
          [
           1,
           3,
           0
          ],
          [
           2,
           1,
           3
          ],
          [
           1,
           3,
           4
          ],
          [
           0,
           3,
           2
          ],
          [
           0,
           1,
           0
          ],
          [
           1,
           3,
           0
          ],
          [
           2,
           3,
           0
          ],
          [
           3,
           2,
           3
          ],
          [
           0,
           2,
           3
          ],
          [
           2,
           3,
           4
          ],
          [
           1,
           0,
           3
          ],
          [
           0,
           3,
           0
          ],
          [
           0,
           3,
           1
          ],
          [
           1,
           3,
           0
          ],
          [
           3,
           3,
           4
          ],
          [
           1,
           3,
           1
          ],
          [
           0,
           3,
           0
          ],
          [
           0,
           0,
           0
          ],
          [
           1,
           3,
           0
          ],
          [
           1,
           3,
           0
          ],
          [
           1,
           3,
           1
          ],
          [
           0,
           3,
           0
          ],
          [
           0,
           2,
           0
          ],
          [
           3,
           0,
           2
          ],
          [
           0,
           3,
           0
          ],
          [
           0,
           2,
           0
          ],
          [
           0,
           3,
           0
          ],
          [
           1,
           2,
           1
          ],
          [
           2,
           3,
           0
          ],
          [
           0,
           3,
           0
          ],
          [
           3,
           0,
           3
          ],
          [
           2,
           3,
           0
          ],
          [
           3,
           2,
           1
          ],
          [
           1,
           3,
           1
          ],
          [
           1,
           3,
           4
          ],
          [
           3,
           2,
           1
          ],
          [
           2,
           3,
           0
          ],
          [
           2,
           2,
           3
          ],
          [
           0,
           1,
           0
          ],
          [
           0,
           3,
           0
          ],
          [
           0,
           3,
           0
          ],
          [
           2,
           0,
           0
          ],
          [
           1,
           3,
           0
          ],
          [
           1,
           3,
           3
          ],
          [
           3,
           3,
           1
          ],
          [
           2,
           2,
           0
          ],
          [
           3,
           2,
           1
          ],
          [
           0,
           3,
           0
          ],
          [
           2,
           3,
           4
          ],
          [
           0,
           0,
           1
          ],
          [
           1,
           1,
           1
          ],
          [
           0,
           3,
           0
          ],
          [
           1,
           3,
           4
          ],
          [
           0,
           3,
           3
          ],
          [
           0,
           0,
           3
          ],
          [
           1,
           3,
           4
          ],
          [
           2,
           3,
           3
          ],
          [
           0,
           3,
           0
          ],
          [
           0,
           3,
           0
          ],
          [
           0,
           3,
           0
          ],
          [
           1,
           0,
           0
          ],
          [
           0,
           3,
           0
          ],
          [
           0,
           0,
           4
          ],
          [
           2,
           0,
           2
          ],
          [
           0,
           3,
           3
          ],
          [
           2,
           2,
           3
          ],
          [
           3,
           1,
           0
          ],
          [
           3,
           2,
           2
          ],
          [
           0,
           1,
           2
          ],
          [
           1,
           3,
           0
          ],
          [
           1,
           3,
           4
          ],
          [
           1,
           1,
           0
          ],
          [
           0,
           3,
           0
          ],
          [
           2,
           1,
           0
          ],
          [
           1,
           3,
           4
          ],
          [
           1,
           1,
           3
          ],
          [
           0,
           3,
           3
          ],
          [
           0,
           3,
           1
          ],
          [
           1,
           3,
           3
          ],
          [
           1,
           0,
           2
          ],
          [
           2,
           3,
           1
          ],
          [
           3,
           0,
           4
          ],
          [
           1,
           3,
           4
          ],
          [
           2,
           3,
           1
          ],
          [
           0,
           3,
           0
          ],
          [
           0,
           2,
           0
          ],
          [
           1,
           1,
           2
          ],
          [
           2,
           3,
           3
          ],
          [
           3,
           3,
           4
          ],
          [
           3,
           3,
           4
          ],
          [
           1,
           3,
           2
          ],
          [
           3,
           2,
           1
          ],
          [
           1,
           3,
           0
          ],
          [
           0,
           3,
           2
          ],
          [
           1,
           2,
           3
          ],
          [
           2,
           0,
           4
          ],
          [
           1,
           3,
           0
          ],
          [
           1,
           3,
           0
          ],
          [
           3,
           3,
           3
          ],
          [
           1,
           2,
           0
          ],
          [
           2,
           3,
           2
          ],
          [
           0,
           1,
           0
          ],
          [
           0,
           0,
           3
          ],
          [
           3,
           3,
           2
          ],
          [
           1,
           3,
           3
          ],
          [
           2,
           2,
           3
          ],
          [
           1,
           0,
           3
          ],
          [
           2,
           3,
           4
          ],
          [
           2,
           0,
           0
          ],
          [
           3,
           3,
           2
          ],
          [
           1,
           1,
           2
          ],
          [
           1,
           3,
           4
          ],
          [
           0,
           1,
           0
          ],
          [
           3,
           2,
           0
          ],
          [
           2,
           0,
           0
          ],
          [
           1,
           1,
           0
          ],
          [
           0,
           3,
           0
          ],
          [
           3,
           3,
           2
          ],
          [
           2,
           0,
           4
          ],
          [
           1,
           2,
           0
          ],
          [
           0,
           3,
           0
          ],
          [
           0,
           0,
           2
          ],
          [
           0,
           3,
           0
          ],
          [
           0,
           3,
           0
          ],
          [
           1,
           1,
           2
          ],
          [
           1,
           0,
           2
          ],
          [
           3,
           1,
           4
          ],
          [
           3,
           1,
           1
          ],
          [
           0,
           1,
           0
          ],
          [
           2,
           3,
           0
          ],
          [
           1,
           1,
           3
          ],
          [
           3,
           0,
           0
          ],
          [
           0,
           0,
           0
          ],
          [
           0,
           3,
           0
          ],
          [
           2,
           1,
           0
          ],
          [
           1,
           1,
           0
          ],
          [
           2,
           3,
           0
          ],
          [
           2,
           2,
           3
          ],
          [
           0,
           1,
           1
          ],
          [
           0,
           2,
           1
          ],
          [
           1,
           3,
           0
          ],
          [
           0,
           3,
           1
          ],
          [
           2,
           2,
           4
          ],
          [
           3,
           1,
           2
          ],
          [
           2,
           3,
           0
          ],
          [
           0,
           3,
           3
          ],
          [
           1,
           3,
           0
          ],
          [
           3,
           3,
           1
          ],
          [
           1,
           2,
           4
          ],
          [
           1,
           3,
           4
          ],
          [
           1,
           0,
           3
          ],
          [
           0,
           3,
           4
          ],
          [
           2,
           2,
           1
          ],
          [
           2,
           3,
           1
          ],
          [
           2,
           3,
           0
          ],
          [
           2,
           2,
           2
          ],
          [
           1,
           3,
           1
          ],
          [
           2,
           3,
           0
          ],
          [
           1,
           3,
           0
          ],
          [
           2,
           1,
           0
          ],
          [
           2,
           3,
           1
          ],
          [
           2,
           3,
           2
          ],
          [
           0,
           0,
           2
          ]
         ],
         "hovertemplate": "TransactionAmount=%{x}<br>TransactionMonth=%{y}<br>Is Fraud=%{marker.color}<br>Currency=%{customdata[0]}<br>MerchantCategory=%{customdata[1]}<br>Location=%{customdata[2]}<extra></extra>",
         "legendgroup": "",
         "marker": {
          "color": [
           0,
           0,
           1,
           1,
           1,
           0,
           1,
           1,
           0,
           1,
           0,
           1,
           0,
           1,
           1,
           1,
           0,
           1,
           1,
           0,
           1,
           1,
           0,
           0,
           1,
           1,
           1,
           0,
           1,
           1,
           0,
           1,
           1,
           1,
           1,
           1,
           0,
           1,
           1,
           1,
           0,
           1,
           0,
           1,
           0,
           1,
           1,
           1,
           0,
           0,
           1,
           1,
           1,
           0,
           1,
           1,
           1,
           1,
           1,
           1,
           1,
           1,
           0,
           0,
           1,
           0,
           1,
           1,
           0,
           0,
           1,
           1,
           0,
           0,
           1,
           1,
           1,
           1,
           0,
           0,
           1,
           1,
           0,
           0,
           0,
           1,
           1,
           0,
           1,
           1,
           1,
           1,
           0,
           1,
           1,
           0,
           0,
           1,
           1,
           1,
           1,
           0,
           1,
           1,
           0,
           1,
           1,
           1,
           1,
           1,
           1,
           0,
           0,
           1,
           1,
           0,
           0,
           0,
           1,
           1,
           1,
           1,
           1,
           1,
           1,
           1,
           0,
           0,
           0,
           1,
           0,
           1,
           1,
           1,
           1,
           1,
           1,
           1,
           1,
           1,
           0,
           1,
           0,
           1,
           0,
           0,
           1,
           1,
           1,
           1,
           0,
           1,
           1,
           1,
           1,
           0,
           1,
           1,
           0,
           1,
           1,
           0,
           0,
           0,
           0,
           1,
           1,
           1,
           1,
           1,
           1,
           1,
           1,
           1,
           1,
           0,
           0,
           0,
           1,
           1,
           0,
           1,
           1,
           1,
           1,
           0,
           1,
           1,
           0,
           1,
           0,
           1,
           1,
           1,
           1,
           1,
           1,
           0,
           0,
           1,
           0,
           1,
           1,
           0,
           1,
           1,
           0,
           1,
           1,
           0,
           1,
           1,
           1,
           1,
           1,
           0,
           1,
           1,
           1,
           1,
           1,
           1,
           0,
           0,
           1,
           1,
           1,
           1,
           1,
           0,
           1,
           0,
           0,
           0,
           1,
           1,
           1,
           1,
           0,
           0,
           1,
           1,
           1,
           1,
           1,
           1,
           1,
           0,
           1,
           1,
           1,
           1,
           1,
           1,
           1,
           0,
           1,
           0,
           1,
           1,
           0,
           1,
           1,
           0,
           1,
           1,
           1,
           1,
           1,
           1,
           1,
           1,
           1,
           1,
           1,
           0,
           1,
           0,
           1,
           0,
           1,
           0,
           1,
           1,
           0,
           0,
           1,
           1,
           1,
           1,
           1,
           1,
           1,
           1,
           1,
           1,
           1,
           1,
           1,
           1,
           1,
           0,
           0,
           0,
           1,
           0,
           1,
           0,
           0,
           1,
           1,
           1,
           1,
           0,
           1,
           1,
           1,
           1,
           1,
           0,
           0,
           1,
           0,
           0,
           1,
           1,
           1,
           1,
           1,
           1,
           1,
           1,
           1,
           1,
           0,
           1,
           1,
           1,
           1,
           1,
           1,
           1,
           1,
           0,
           1,
           1,
           1,
           1,
           0,
           0,
           1,
           1,
           1,
           0,
           0,
           1,
           1,
           1,
           1,
           1,
           1,
           1,
           0,
           1,
           1,
           1,
           1,
           1,
           0,
           1,
           1,
           1,
           1,
           1,
           1,
           1,
           1,
           1,
           0,
           1,
           1,
           0,
           0,
           1,
           0,
           0,
           0,
           0,
           1,
           1,
           0,
           1,
           0,
           0,
           0,
           1,
           1,
           1,
           0,
           1,
           0,
           1,
           1,
           0,
           1,
           1,
           0,
           1,
           0,
           1,
           1,
           0,
           1,
           1,
           1,
           1,
           1,
           0,
           0,
           1,
           0,
           1,
           0,
           1,
           1,
           1,
           1,
           1,
           0,
           1,
           1,
           0,
           1,
           1,
           1,
           1,
           1,
           1,
           1,
           1,
           1,
           1,
           1,
           1,
           1,
           0,
           1,
           0,
           1,
           1,
           1,
           1,
           0,
           0,
           0,
           1,
           1,
           1,
           1,
           1,
           1,
           1,
           0,
           1,
           1,
           1,
           1,
           1,
           1,
           1,
           0,
           0,
           0,
           1,
           0,
           1,
           0,
           0,
           1,
           1,
           1,
           1,
           0,
           0,
           1,
           1,
           0,
           0,
           0,
           1,
           0,
           1,
           1,
           0,
           1,
           1,
           1,
           0,
           1,
           0,
           0,
           1,
           1,
           0,
           1,
           1,
           0,
           0,
           1,
           1,
           1,
           1,
           1,
           1,
           1,
           1,
           1,
           1,
           1,
           1,
           1,
           1,
           1,
           1,
           1,
           1,
           1,
           1,
           1,
           1,
           1,
           0,
           1,
           1,
           1,
           1,
           1,
           0,
           1,
           0,
           1,
           1,
           0,
           1,
           1,
           1,
           1,
           0,
           0,
           0,
           1,
           1,
           1,
           1,
           0,
           0,
           1,
           1,
           1,
           1,
           1,
           1,
           0,
           1,
           1,
           0,
           1,
           0,
           0,
           0,
           1,
           1,
           1,
           1,
           1,
           0,
           1,
           1,
           1,
           1,
           1,
           1,
           1,
           1,
           1,
           1,
           1,
           0,
           0,
           1,
           1,
           0,
           0,
           1,
           1,
           0,
           0,
           0,
           1,
           1,
           1,
           1,
           1,
           1,
           1,
           1,
           1,
           0,
           1,
           1,
           1,
           1,
           1,
           1,
           1,
           0,
           0,
           1,
           0,
           1,
           1,
           1,
           1,
           1,
           1,
           1,
           1,
           1,
           0,
           1,
           0,
           1,
           1,
           0,
           1,
           1,
           0,
           1,
           0,
           0,
           1,
           0,
           1,
           1,
           1,
           1,
           1,
           0,
           1,
           0,
           1,
           1,
           1,
           1,
           1,
           0,
           1,
           0,
           1,
           0,
           1,
           0,
           1,
           1,
           1,
           1,
           1,
           1,
           0,
           1,
           1,
           0,
           1,
           0,
           0,
           0,
           1,
           0,
           1,
           1,
           1,
           1,
           1,
           0,
           1,
           1,
           1,
           0,
           0,
           1,
           1,
           1,
           1,
           1,
           0,
           1,
           1,
           1,
           1,
           0,
           1,
           0,
           1,
           1,
           1,
           0,
           1,
           0,
           1,
           1,
           0,
           0,
           1,
           1,
           0,
           0,
           1,
           1,
           1,
           1,
           0,
           0,
           0,
           1,
           1,
           1,
           0,
           1,
           0,
           1,
           1,
           1,
           1,
           1,
           1,
           0,
           1,
           0,
           1,
           1,
           1,
           1,
           0,
           1,
           1,
           1,
           1,
           1,
           0,
           1,
           0,
           0,
           1,
           0,
           1,
           1,
           0,
           1,
           0,
           0,
           0,
           1,
           1,
           1,
           1,
           1,
           1,
           1,
           1,
           1,
           1,
           1,
           1,
           1,
           1,
           0,
           1,
           1,
           1,
           0,
           1,
           1,
           1,
           1,
           1,
           0,
           1,
           0,
           1,
           1,
           1,
           1,
           1,
           1,
           0,
           1,
           0,
           1,
           1,
           1,
           0,
           0,
           0,
           1,
           0,
           1,
           1,
           1,
           1,
           1,
           0,
           1,
           1,
           1,
           1,
           1,
           0,
           1,
           1,
           0,
           1,
           0,
           1,
           1,
           0,
           1,
           1,
           1,
           1,
           1,
           1,
           1,
           1,
           1,
           1,
           1,
           1,
           1,
           1,
           1,
           1,
           0,
           1,
           1,
           0,
           1,
           0,
           0,
           1,
           0,
           1,
           1,
           0,
           1,
           1,
           0,
           0,
           0,
           1,
           1,
           1,
           1,
           1,
           1,
           1,
           0,
           0,
           1,
           1,
           0,
           0,
           1,
           1,
           0,
           1,
           1,
           1,
           1,
           1,
           0,
           1,
           0,
           1,
           1,
           0,
           0,
           1,
           1,
           1,
           1,
           1,
           1,
           1,
           0,
           0,
           1,
           1,
           0,
           1,
           0,
           0,
           0,
           1,
           1,
           1,
           1,
           0,
           0,
           1,
           1,
           1,
           1,
           1,
           1,
           0,
           1,
           0,
           1,
           1,
           1,
           0,
           1,
           1,
           1,
           1,
           1,
           1,
           1,
           1,
           1,
           1,
           1,
           0,
           1,
           1,
           1,
           1,
           1,
           0,
           1,
           1,
           1,
           0,
           0,
           1,
           0,
           1,
           1,
           0,
           1,
           0,
           1,
           1,
           1,
           0,
           1,
           1,
           0,
           1,
           1,
           0,
           1,
           1,
           1,
           1,
           1,
           1,
           1,
           0,
           1,
           1,
           0,
           1,
           0,
           1,
           0,
           0,
           1,
           0,
           0,
           1,
           1,
           1,
           1,
           0,
           1,
           1,
           1,
           1,
           1,
           0,
           0,
           1,
           1,
           1,
           1,
           0,
           1,
           1,
           1,
           1,
           1
          ],
          "coloraxis": "coloraxis",
          "symbol": "circle"
         },
         "mode": "markers",
         "name": "",
         "scene": "scene",
         "showlegend": false,
         "type": "scatter3d",
         "x": [
          2576.8294594594595,
          1042.55,
          2424.438571428572,
          2964.64,
          2576.8294594594595,
          2576.8294594594595,
          2424.438571428572,
          2498.911621621622,
          2776.6302040816327,
          2213.137090909091,
          2576.8294594594595,
          2776.6302040816327,
          2576.8294594594595,
          4368.18,
          2776.6302040816327,
          2213.137090909091,
          2677.63,
          2776.6302040816327,
          2776.6302040816327,
          2576.8294594594595,
          2776.6302040816327,
          1629.93,
          3133.52,
          2776.6302040816327,
          2576.8294594594595,
          891.91,
          2691.57,
          2498.911621621622,
          2498.911621621622,
          2424.438571428572,
          2498.911621621622,
          2424.438571428572,
          2424.438571428572,
          2776.6302040816327,
          2498.911621621622,
          2424.438571428572,
          2498.911621621622,
          2213.137090909091,
          2776.6302040816327,
          2498.911621621622,
          3241.35,
          2622.4180952380952,
          2576.8294594594595,
          356.58,
          2213.137090909091,
          2498.911621621622,
          2424.438571428572,
          3636.56,
          2576.8294594594595,
          1926.11,
          4134.55,
          669.57,
          1345.61,
          3964.08,
          4788.51,
          2498.911621621622,
          4265.07,
          2576.8294594594595,
          2213.137090909091,
          2576.8294594594595,
          2424.438571428572,
          2576.8294594594595,
          3141.15,
          115.83,
          2498.911621621622,
          2622.4180952380952,
          2213.137090909091,
          2576.8294594594595,
          2424.438571428572,
          2622.4180952380952,
          2424.438571428572,
          3436.96,
          2464.18,
          2576.8294594594595,
          2576.8294594594595,
          600.57,
          2213.137090909091,
          2776.6302040816327,
          2213.137090909091,
          2622.4180952380952,
          2424.438571428572,
          1748.44,
          2576.8294594594595,
          2213.137090909091,
          4055.49,
          2213.137090909091,
          2776.6302040816327,
          2776.6302040816327,
          2213.137090909091,
          4075.1,
          2424.438571428572,
          2213.137090909091,
          2424.438571428572,
          2576.8294594594595,
          2213.137090909091,
          2622.4180952380952,
          2213.137090909091,
          2424.438571428572,
          2622.4180952380952,
          2776.6302040816327,
          2576.8294594594595,
          2213.137090909091,
          2424.438571428572,
          2213.137090909091,
          2776.6302040816327,
          4969.59,
          2622.4180952380952,
          4788.5,
          2776.6302040816327,
          2576.8294594594595,
          2424.438571428572,
          2498.911621621622,
          2622.4180952380952,
          2498.911621621622,
          2576.8294594594595,
          1893.53,
          2576.8294594594595,
          1864.7,
          3317.11,
          2498.911621621622,
          2213.137090909091,
          2776.6302040816327,
          2576.8294594594595,
          2776.6302040816327,
          2776.6302040816327,
          2576.8294594594595,
          2498.911621621622,
          2225.43,
          2576.8294594594595,
          309.4,
          2776.6302040816327,
          2521.44,
          2576.8294594594595,
          2576.8294594594595,
          2498.911621621622,
          2776.6302040816327,
          2498.911621621622,
          2622.4180952380952,
          2776.6302040816327,
          2424.438571428572,
          2776.6302040816327,
          2213.137090909091,
          1967.53,
          2498.911621621622,
          2498.911621621622,
          2498.911621621622,
          2776.6302040816327,
          2213.137090909091,
          1356.9,
          2576.8294594594595,
          2213.137090909091,
          822.17,
          335.94,
          2498.911621621622,
          2213.137090909091,
          3195.56,
          1209.27,
          4883.55,
          2622.4180952380952,
          2576.8294594594595,
          2776.6302040816327,
          2498.911621621622,
          2498.911621621622,
          2213.137090909091,
          2424.438571428572,
          4869.52,
          1663.28,
          2576.8294594594595,
          2424.438571428572,
          2390,
          2498.911621621622,
          3415.05,
          4427.17,
          2498.911621621622,
          2213.137090909091,
          2622.4180952380952,
          2622.4180952380952,
          2622.4180952380952,
          2424.438571428572,
          2213.137090909091,
          2622.4180952380952,
          1203.16,
          2776.6302040816327,
          496.06,
          2776.6302040816327,
          2740.21,
          2424.438571428572,
          2776.6302040816327,
          2424.438571428572,
          2576.8294594594595,
          2576.8294594594595,
          2424.438571428572,
          2424.438571428572,
          2776.6302040816327,
          2776.6302040816327,
          2424.438571428572,
          2213.137090909091,
          2424.438571428572,
          2213.137090909091,
          2424.438571428572,
          2498.911621621622,
          4388.27,
          3106.86,
          2498.911621621622,
          3501.73,
          781.27,
          2622.4180952380952,
          2854.97,
          2213.137090909091,
          2213.137090909091,
          2424.438571428572,
          2498.911621621622,
          2776.6302040816327,
          2576.8294594594595,
          2013.59,
          2498.911621621622,
          2498.911621621622,
          2498.911621621622,
          2576.8294594594595,
          2576.8294594594595,
          2424.438571428572,
          2622.4180952380952,
          2213.137090909091,
          2622.4180952380952,
          2622.4180952380952,
          2213.137090909091,
          2498.911621621622,
          427.12,
          1376.79,
          2576.8294594594595,
          2576.8294594594595,
          2576.8294594594595,
          928.55,
          2776.6302040816327,
          2622.4180952380952,
          2498.911621621622,
          2213.137090909091,
          2576.8294594594595,
          2498.911621621622,
          2498.911621621622,
          2576.8294594594595,
          2576.8294594594595,
          2576.8294594594595,
          2576.8294594594595,
          2213.137090909091,
          4322.86,
          2576.8294594594595,
          1321.39,
          2576.8294594594595,
          3175.12,
          2424.438571428572,
          2213.137090909091,
          2424.438571428572,
          2424.438571428572,
          4859.01,
          2622.4180952380952,
          2576.8294594594595,
          2515.41,
          2576.8294594594595,
          2424.438571428572,
          2576.8294594594595,
          2424.438571428572,
          2776.6302040816327,
          2776.6302040816327,
          2498.911621621622,
          2213.137090909091,
          2424.438571428572,
          3174.2,
          4976.86,
          457.29,
          2622.4180952380952,
          527.34,
          3171.29,
          2776.6302040816327,
          2776.6302040816327,
          2762.42,
          2622.4180952380952,
          2576.8294594594595,
          2622.4180952380952,
          2424.438571428572,
          2622.4180952380952,
          2213.137090909091,
          2776.6302040816327,
          2498.911621621622,
          3369.77,
          2576.8294594594595,
          173.05,
          2776.6302040816327,
          2498.911621621622,
          2213.137090909091,
          2776.6302040816327,
          2776.6302040816327,
          2776.6302040816327,
          2576.8294594594595,
          2776.6302040816327,
          2622.4180952380952,
          2776.6302040816327,
          2576.8294594594595,
          2498.911621621622,
          2622.4180952380952,
          2424.438571428572,
          2424.438571428572,
          475.34,
          2622.4180952380952,
          148.81,
          2863.25,
          2213.137090909091,
          2213.137090909091,
          2622.4180952380952,
          2498.911621621622,
          2424.438571428572,
          3854.25,
          2213.137090909091,
          3140.92,
          563.55,
          2622.4180952380952,
          2776.6302040816327,
          2498.911621621622,
          2424.438571428572,
          2424.438571428572,
          2213.137090909091,
          377.14,
          2622.4180952380952,
          2622.4180952380952,
          2622.4180952380952,
          2576.8294594594595,
          2213.137090909091,
          3301.74,
          2576.8294594594595,
          2576.8294594594595,
          4974.63,
          2776.6302040816327,
          2213.137090909091,
          3034.49,
          2498.911621621622,
          2424.438571428572,
          2776.6302040816327,
          2498.911621621622,
          2576.8294594594595,
          2622.4180952380952,
          1004.2,
          2424.438571428572,
          2576.8294594594595,
          2622.4180952380952,
          2622.4180952380952,
          2213.137090909091,
          4809.74,
          2776.6302040816327,
          2776.6302040816327,
          2213.137090909091,
          2776.6302040816327,
          2498.911621621622,
          4081.3,
          2622.4180952380952,
          2622.4180952380952,
          1876.06,
          2252.52,
          2776.6302040816327,
          2498.911621621622,
          2576.8294594594595,
          1997.55,
          2622.4180952380952,
          2424.438571428572,
          1795.15,
          2213.137090909091,
          2213.137090909091,
          2498.911621621622,
          2576.8294594594595,
          2576.8294594594595,
          4494.73,
          2498.911621621622,
          2641.04,
          2809.18,
          2424.438571428572,
          2424.438571428572,
          2424.438571428572,
          998.77,
          2498.911621621622,
          2213.137090909091,
          2111.97,
          2576.8294594594595,
          2424.438571428572,
          2576.8294594594595,
          99,
          2213.137090909091,
          2576.8294594594595,
          194.67,
          1693.58,
          356.58,
          2576.8294594594595,
          2622.4180952380952,
          2213.137090909091,
          2213.137090909091,
          2474.15,
          2576.8294594594595,
          2471.75,
          4216.95,
          156.15,
          2576.8294594594595,
          2498.911621621622,
          2498.911621621622,
          1139.44,
          2498.911621621622,
          4082.58,
          4671.21,
          1305.84,
          2776.6302040816327,
          2213.137090909091,
          2213.137090909091,
          2424.438571428572,
          2776.6302040816327,
          2498.911621621622,
          2576.8294594594595,
          3188.15,
          2424.438571428572,
          2498.911621621622,
          2213.137090909091,
          2576.8294594594595,
          2424.438571428572,
          3833.35,
          2576.8294594594595,
          2424.438571428572,
          3477.88,
          4859.11,
          2213.137090909091,
          2622.4180952380952,
          947.71,
          2213.137090909091,
          2498.911621621622,
          2424.438571428572,
          4240.56,
          2622.4180952380952,
          2576.8294594594595,
          2622.4180952380952,
          2622.4180952380952,
          2213.137090909091,
          2424.438571428572,
          4757.96,
          744.98,
          2213.137090909091,
          2576.8294594594595,
          943.28,
          2622.4180952380952,
          1766.26,
          4635.37,
          2498.911621621622,
          2213.137090909091,
          2544.55,
          2498.911621621622,
          2213.137090909091,
          2622.4180952380952,
          2424.438571428572,
          2424.438571428572,
          2576.8294594594595,
          2597.91,
          2213.137090909091,
          2622.4180952380952,
          584.79,
          2576.8294594594595,
          338.58,
          2576.8294594594595,
          1965.62,
          2776.6302040816327,
          2498.911621621622,
          2498.911621621622,
          2213.137090909091,
          3672.07,
          2576.8294594594595,
          2576.8294594594595,
          859.46,
          2576.8294594594595,
          2498.911621621622,
          2622.4180952380952,
          2145.33,
          2776.6302040816327,
          2776.6302040816327,
          3399.22,
          2576.8294594594595,
          2576.8294594594595,
          2498.911621621622,
          555.84,
          2622.4180952380952,
          2213.137090909091,
          3777.41,
          2776.6302040816327,
          2576.8294594594595,
          2622.4180952380952,
          2776.6302040816327,
          1827.8,
          2498.911621621622,
          2424.438571428572,
          572.68,
          2776.6302040816327,
          2622.4180952380952,
          1792.4,
          2776.6302040816327,
          1803.51,
          2776.6302040816327,
          2213.137090909091,
          2424.438571428572,
          2498.911621621622,
          2776.6302040816327,
          2213.137090909091,
          2213.137090909091,
          1553.52,
          2213.137090909091,
          4172.52,
          2498.911621621622,
          2213.137090909091,
          1449.16,
          2424.438571428572,
          2424.438571428572,
          2776.6302040816327,
          2213.137090909091,
          2498.911621621622,
          2424.438571428572,
          87.81,
          1094.45,
          2622.4180952380952,
          2776.6302040816327,
          3304.66,
          2576.8294594594595,
          2424.438571428572,
          2213.137090909091,
          2776.6302040816327,
          2622.4180952380952,
          2165.93,
          1461.1,
          2424.438571428572,
          2213.137090909091,
          2118.59,
          2622.4180952380952,
          2576.8294594594595,
          2498.911621621622,
          2576.8294594594595,
          2424.438571428572,
          2213.137090909091,
          2622.4180952380952,
          2576.8294594594595,
          2622.4180952380952,
          2424.438571428572,
          2424.438571428572,
          2424.438571428572,
          2213.137090909091,
          2498.911621621622,
          2622.4180952380952,
          2311.81,
          2498.911621621622,
          2622.4180952380952,
          2424.438571428572,
          2498.911621621622,
          2622.4180952380952,
          2576.8294594594595,
          638.42,
          2498.911621621622,
          4197.6,
          282.92,
          1674.08,
          2498.911621621622,
          3456.06,
          616,
          2622.4180952380952,
          2576.8294594594595,
          2424.438571428572,
          2622.4180952380952,
          3598.52,
          2576.8294594594595,
          582.4,
          773.58,
          2576.8294594594595,
          2424.438571428572,
          2424.438571428572,
          1959.66,
          2622.4180952380952,
          2776.6302040816327,
          2213.137090909091,
          2622.4180952380952,
          4297.98,
          2167.44,
          2213.137090909091,
          2576.8294594594595,
          2424.438571428572,
          1454.35,
          2424.438571428572,
          2622.4180952380952,
          1962.03,
          2213.137090909091,
          2576.8294594594595,
          2424.438571428572,
          2213.137090909091,
          2424.438571428572,
          2576.8294594594595,
          2776.6302040816327,
          2498.911621621622,
          2424.438571428572,
          2622.4180952380952,
          2213.137090909091,
          2213.137090909091,
          2776.6302040816327,
          2424.438571428572,
          2622.4180952380952,
          2213.137090909091,
          4618.15,
          2498.911621621622,
          2622.4180952380952,
          2213.137090909091,
          2576.8294594594595,
          2576.8294594594595,
          2424.438571428572,
          2776.6302040816327,
          347.17,
          2498.911621621622,
          1166.2,
          2576.8294594594595,
          2213.137090909091,
          2498.911621621622,
          2622.4180952380952,
          2213.137090909091,
          2576.8294594594595,
          4612.66,
          3063.4,
          196.72,
          2424.438571428572,
          3036.6,
          2776.6302040816327,
          2622.4180952380952,
          2776.6302040816327,
          2498.911621621622,
          2424.438571428572,
          2424.438571428572,
          2213.137090909091,
          439.23,
          3149.29,
          2622.4180952380952,
          2776.6302040816327,
          3874.18,
          2622.4180952380952,
          2776.6302040816327,
          2498.911621621622,
          2213.137090909091,
          2213.137090909091,
          2622.4180952380952,
          2424.438571428572,
          4371.14,
          2213.137090909091,
          2213.137090909091,
          2424.438571428572,
          2622.4180952380952,
          2424.438571428572,
          2576.8294594594595,
          2776.6302040816327,
          4840.89,
          2498.911621621622,
          2213.137090909091,
          2002.11,
          2734.25,
          2498.911621621622,
          3269.63,
          2213.137090909091,
          1010.55,
          2776.6302040816327,
          4621.63,
          1185.73,
          4030.25,
          1735.77,
          4750.04,
          2622.4180952380952,
          2776.6302040816327,
          3619.42,
          2622.4180952380952,
          2498.911621621622,
          2576.8294594594595,
          117,
          2622.4180952380952,
          2424.438571428572,
          3412.89,
          2766.95,
          2776.6302040816327,
          2424.438571428572,
          2776.6302040816327,
          586.76,
          2424.438571428572,
          2424.438571428572,
          2188.26,
          1198.47,
          2576.8294594594595,
          2071.2,
          4954.78,
          2776.6302040816327,
          4064.98,
          2576.8294594594595,
          911.16,
          2424.438571428572,
          2776.6302040816327,
          2776.6302040816327,
          3291.34,
          2213.137090909091,
          2424.438571428572,
          2776.6302040816327,
          2576.8294594594595,
          2776.6302040816327,
          2498.911621621622,
          2622.4180952380952,
          1601.11,
          2776.6302040816327,
          2576.8294594594595,
          2576.8294594594595,
          2498.911621621622,
          2776.6302040816327,
          2424.438571428572,
          2498.911621621622,
          2576.8294594594595,
          4765.69,
          2499.55,
          2576.8294594594595,
          1509.06,
          2498.911621621622,
          2424.438571428572,
          1929.47,
          2776.6302040816327,
          2576.8294594594595,
          2498.911621621622,
          2424.438571428572,
          2776.6302040816327,
          2776.6302040816327,
          2622.4180952380952,
          2498.911621621622,
          2498.911621621622,
          4330.05,
          2576.8294594594595,
          2424.438571428572,
          2622.4180952380952,
          2213.137090909091,
          2776.6302040816327,
          2776.6302040816327,
          668.04,
          2498.911621621622,
          2424.438571428572,
          2498.911621621622,
          2776.6302040816327,
          2576.8294594594595,
          2424.438571428572,
          3914.31,
          2213.137090909091,
          2213.137090909091,
          2224.61,
          2498.911621621622,
          2213.137090909091,
          2498.911621621622,
          2048.97,
          2213.137090909091,
          2776.6302040816327,
          2776.6302040816327,
          2776.6302040816327,
          2213.137090909091,
          743.04,
          1171.04,
          2213.137090909091,
          2903.65,
          2424.438571428572,
          2498.911621621622,
          4876.66,
          2213.137090909091,
          2706.8,
          2576.8294594594595,
          2622.4180952380952,
          574.78,
          2776.6302040816327,
          2424.438571428572,
          2776.6302040816327,
          2776.6302040816327,
          2213.137090909091,
          2776.6302040816327,
          2622.4180952380952,
          2776.6302040816327,
          2213.137090909091,
          2576.8294594594595,
          4652.24,
          2576.8294594594595,
          2776.6302040816327,
          2776.6302040816327,
          2776.6302040816327,
          2424.438571428572,
          1911.64,
          2576.8294594594595,
          2576.8294594594595,
          2699.45,
          4239.5,
          2776.6302040816327,
          2213.137090909091,
          2576.8294594594595,
          2213.137090909091,
          2576.8294594594595,
          2213.137090909091,
          3743.46,
          2498.911621621622,
          2424.438571428572,
          2622.4180952380952,
          2806.68,
          2213.137090909091,
          2576.8294594594595,
          2622.4180952380952,
          2424.438571428572,
          2576.8294594594595,
          2498.911621621622,
          2622.4180952380952,
          2424.438571428572,
          1714.44,
          2424.438571428572,
          2498.911621621622,
          2776.6302040816327,
          2576.8294594594595,
          87.41,
          2622.4180952380952,
          2498.911621621622,
          2498.911621621622,
          2622.4180952380952,
          2622.4180952380952,
          2424.438571428572,
          2776.6302040816327,
          2776.6302040816327,
          3562.8,
          2424.438571428572,
          2961.48,
          4970.73,
          2424.438571428572,
          2213.137090909091,
          2776.6302040816327,
          2622.4180952380952,
          2622.4180952380952,
          3621.3,
          769.76,
          2213.137090909091,
          2622.4180952380952,
          2622.4180952380952,
          2424.438571428572,
          4724.39,
          2576.8294594594595,
          2622.4180952380952,
          2424.438571428572,
          2776.6302040816327,
          4768.03,
          2576.8294594594595,
          2424.438571428572,
          2776.6302040816327,
          2576.8294594594595,
          2213.137090909091,
          2498.911621621622,
          2424.438571428572,
          2424.438571428572,
          4944.14,
          2576.8294594594595,
          2622.4180952380952,
          2776.6302040816327,
          146.48,
          2498.911621621622,
          43.26,
          2576.8294594594595,
          2576.8294594594595,
          2622.4180952380952,
          2776.6302040816327,
          4590.8,
          2576.8294594594595,
          2471.35,
          2424.438571428572,
          3660.85,
          4842.51,
          2213.137090909091,
          2424.438571428572,
          2622.4180952380952,
          1387.78,
          2576.8294594594595,
          4462.44,
          2776.6302040816327,
          960.09,
          4746.42,
          2776.6302040816327,
          2776.6302040816327,
          2776.6302040816327,
          2424.438571428572,
          2576.8294594594595,
          2576.8294594594595,
          3177.52,
          2576.8294594594595,
          25.96,
          2776.6302040816327,
          3552.85,
          2622.4180952380952,
          2776.6302040816327,
          2776.6302040816327,
          2424.438571428572,
          2576.8294594594595,
          2213.137090909091,
          2622.4180952380952,
          2213.137090909091,
          2498.911621621622,
          2424.438571428572,
          2424.438571428572,
          2424.438571428572,
          2776.6302040816327,
          4782.01,
          2213.137090909091,
          2498.911621621622,
          2213.137090909091,
          2498.911621621622,
          2776.6302040816327,
          2213.137090909091,
          2622.4180952380952,
          2622.4180952380952,
          2576.8294594594595,
          2213.137090909091,
          2776.6302040816327,
          2576.8294594594595,
          1705.81,
          2622.4180952380952,
          2498.911621621622,
          2684.71,
          2424.438571428572,
          654.78,
          4751.89,
          4014.04,
          2576.8294594594595,
          4562.02,
          2776.6302040816327,
          2576.8294594594595,
          2622.4180952380952,
          2213.137090909091,
          2213.137090909091,
          2498.911621621622,
          2498.911621621622,
          4700.67,
          4228.95,
          2776.6302040816327,
          2622.4180952380952,
          2622.4180952380952,
          2576.8294594594595,
          178.55,
          2213.137090909091,
          2213.137090909091,
          2776.6302040816327,
          4311.3,
          2498.911621621622,
          2424.438571428572,
          2622.4180952380952,
          2213.137090909091,
          2576.8294594594595,
          2566.65,
          2576.8294594594595,
          2622.4180952380952,
          2498.911621621622,
          2498.911621621622,
          2776.6302040816327,
          2498.911621621622,
          2424.438571428572,
          2622.4180952380952,
          2498.911621621622,
          3815.87,
          2266.83,
          2776.6302040816327,
          2776.6302040816327,
          2576.8294594594595,
          1668.85,
          2776.6302040816327,
          2622.4180952380952,
          2971.11,
          2213.137090909091,
          2622.4180952380952,
          2776.6302040816327,
          2622.4180952380952,
          2576.8294594594595,
          2622.4180952380952,
          2498.911621621622,
          2424.438571428572,
          2576.8294594594595,
          2424.438571428572,
          2213.137090909091,
          2577.01,
          2424.438571428572,
          2776.6302040816327,
          645.14,
          818.84,
          2498.911621621622,
          4350.05,
          2776.6302040816327,
          2498.911621621622,
          2622.4180952380952,
          2213.137090909091,
          2622.4180952380952,
          2576.8294594594595,
          2498.911621621622,
          2576.8294594594595,
          2498.911621621622,
          2424.438571428572,
          2576.8294594594595,
          2424.438571428572,
          2424.438571428572,
          2576.8294594594595,
          2424.438571428572,
          2213.137090909091,
          344.57,
          2424.438571428572,
          2776.6302040816327
         ],
         "y": [
          4,
          5,
          1,
          1,
          4,
          4,
          1,
          2,
          6,
          5,
          4,
          6,
          4,
          6,
          6,
          5,
          3,
          6,
          6,
          4,
          6,
          6,
          6,
          6,
          4,
          3,
          1,
          2,
          2,
          1,
          2,
          1,
          1,
          6,
          2,
          1,
          2,
          5,
          6,
          2,
          6,
          3,
          4,
          6,
          5,
          2,
          1,
          3,
          4,
          2,
          5,
          4,
          1,
          1,
          2,
          2,
          6,
          4,
          5,
          4,
          1,
          4,
          5,
          3,
          2,
          3,
          5,
          4,
          1,
          3,
          1,
          1,
          6,
          4,
          4,
          5,
          5,
          6,
          5,
          3,
          1,
          5,
          4,
          5,
          5,
          5,
          6,
          6,
          5,
          2,
          1,
          5,
          1,
          4,
          5,
          3,
          5,
          1,
          3,
          6,
          4,
          5,
          1,
          5,
          6,
          6,
          3,
          4,
          6,
          4,
          1,
          2,
          3,
          2,
          4,
          3,
          4,
          2,
          5,
          2,
          5,
          6,
          4,
          6,
          6,
          4,
          2,
          3,
          4,
          4,
          6,
          6,
          4,
          4,
          2,
          6,
          2,
          3,
          6,
          1,
          6,
          5,
          2,
          2,
          2,
          2,
          6,
          5,
          1,
          4,
          5,
          3,
          3,
          2,
          5,
          1,
          1,
          4,
          3,
          4,
          6,
          2,
          2,
          5,
          1,
          1,
          3,
          4,
          1,
          6,
          2,
          1,
          5,
          2,
          5,
          3,
          3,
          3,
          1,
          5,
          3,
          2,
          6,
          5,
          6,
          6,
          1,
          6,
          1,
          4,
          4,
          1,
          1,
          6,
          6,
          1,
          5,
          1,
          5,
          1,
          2,
          6,
          1,
          2,
          4,
          2,
          3,
          4,
          5,
          5,
          1,
          2,
          6,
          4,
          3,
          2,
          2,
          2,
          4,
          4,
          1,
          3,
          5,
          3,
          3,
          5,
          2,
          1,
          3,
          4,
          4,
          4,
          6,
          6,
          3,
          2,
          5,
          4,
          2,
          2,
          4,
          4,
          4,
          4,
          5,
          6,
          4,
          1,
          4,
          2,
          1,
          5,
          1,
          1,
          3,
          3,
          4,
          2,
          4,
          1,
          4,
          1,
          6,
          6,
          2,
          5,
          1,
          6,
          6,
          4,
          3,
          4,
          4,
          6,
          6,
          5,
          3,
          4,
          3,
          1,
          3,
          5,
          6,
          2,
          6,
          4,
          4,
          6,
          2,
          5,
          6,
          6,
          6,
          4,
          6,
          3,
          6,
          4,
          2,
          3,
          1,
          1,
          5,
          3,
          4,
          2,
          5,
          5,
          3,
          2,
          1,
          5,
          5,
          3,
          5,
          3,
          6,
          2,
          1,
          1,
          5,
          5,
          3,
          3,
          3,
          4,
          5,
          1,
          4,
          4,
          3,
          6,
          5,
          3,
          2,
          1,
          6,
          2,
          4,
          3,
          5,
          1,
          4,
          3,
          3,
          5,
          5,
          6,
          6,
          5,
          6,
          2,
          3,
          3,
          3,
          6,
          5,
          6,
          2,
          4,
          5,
          3,
          1,
          3,
          5,
          5,
          2,
          4,
          4,
          1,
          2,
          4,
          4,
          1,
          1,
          1,
          4,
          2,
          5,
          2,
          4,
          1,
          4,
          6,
          5,
          4,
          5,
          5,
          5,
          4,
          3,
          5,
          5,
          6,
          4,
          4,
          6,
          5,
          4,
          2,
          2,
          5,
          2,
          5,
          4,
          2,
          6,
          5,
          5,
          1,
          6,
          2,
          4,
          5,
          1,
          2,
          5,
          4,
          1,
          6,
          4,
          1,
          1,
          4,
          5,
          3,
          1,
          5,
          2,
          1,
          4,
          3,
          4,
          3,
          3,
          5,
          1,
          2,
          2,
          5,
          4,
          1,
          3,
          3,
          2,
          2,
          5,
          1,
          2,
          5,
          3,
          1,
          1,
          4,
          5,
          5,
          3,
          5,
          4,
          3,
          4,
          5,
          6,
          2,
          2,
          5,
          6,
          4,
          4,
          6,
          4,
          2,
          3,
          1,
          6,
          6,
          6,
          4,
          4,
          2,
          4,
          3,
          5,
          1,
          6,
          4,
          3,
          6,
          1,
          2,
          1,
          5,
          6,
          3,
          5,
          6,
          2,
          6,
          5,
          1,
          2,
          6,
          5,
          5,
          1,
          5,
          5,
          2,
          5,
          5,
          1,
          1,
          6,
          5,
          2,
          1,
          3,
          2,
          3,
          6,
          5,
          4,
          1,
          5,
          6,
          3,
          4,
          5,
          1,
          5,
          1,
          3,
          4,
          2,
          4,
          1,
          5,
          3,
          4,
          3,
          1,
          1,
          1,
          5,
          2,
          3,
          2,
          2,
          3,
          1,
          2,
          3,
          4,
          6,
          2,
          1,
          6,
          3,
          2,
          1,
          1,
          3,
          4,
          1,
          3,
          2,
          4,
          3,
          3,
          4,
          1,
          1,
          2,
          3,
          6,
          5,
          3,
          5,
          5,
          5,
          4,
          1,
          3,
          1,
          3,
          4,
          5,
          4,
          1,
          5,
          1,
          4,
          6,
          2,
          1,
          3,
          5,
          5,
          6,
          1,
          3,
          5,
          6,
          2,
          3,
          5,
          4,
          4,
          1,
          6,
          5,
          2,
          2,
          4,
          5,
          2,
          3,
          5,
          4,
          5,
          4,
          1,
          1,
          4,
          6,
          3,
          6,
          2,
          1,
          1,
          5,
          3,
          6,
          3,
          6,
          4,
          3,
          6,
          2,
          5,
          5,
          3,
          1,
          2,
          5,
          5,
          1,
          3,
          1,
          4,
          6,
          2,
          2,
          5,
          3,
          4,
          2,
          6,
          5,
          3,
          6,
          3,
          6,
          3,
          4,
          3,
          3,
          6,
          3,
          3,
          2,
          4,
          6,
          3,
          1,
          6,
          2,
          6,
          1,
          6,
          5,
          1,
          1,
          6,
          2,
          4,
          5,
          6,
          6,
          5,
          4,
          5,
          1,
          6,
          6,
          1,
          5,
          1,
          6,
          4,
          6,
          2,
          3,
          4,
          6,
          4,
          4,
          2,
          6,
          1,
          2,
          4,
          4,
          2,
          4,
          1,
          2,
          1,
          4,
          6,
          4,
          2,
          1,
          6,
          6,
          3,
          2,
          2,
          5,
          4,
          1,
          3,
          5,
          6,
          6,
          6,
          2,
          1,
          2,
          6,
          4,
          1,
          3,
          5,
          5,
          5,
          2,
          5,
          2,
          6,
          5,
          6,
          6,
          6,
          5,
          2,
          1,
          5,
          2,
          1,
          2,
          3,
          5,
          2,
          4,
          3,
          2,
          6,
          1,
          6,
          6,
          5,
          6,
          3,
          6,
          5,
          4,
          1,
          4,
          6,
          6,
          6,
          1,
          3,
          4,
          4,
          3,
          2,
          6,
          5,
          4,
          5,
          4,
          5,
          1,
          2,
          1,
          3,
          4,
          5,
          4,
          3,
          1,
          4,
          2,
          3,
          1,
          5,
          1,
          2,
          6,
          4,
          1,
          3,
          2,
          2,
          3,
          3,
          1,
          6,
          6,
          1,
          1,
          5,
          4,
          1,
          5,
          6,
          3,
          3,
          3,
          1,
          5,
          3,
          3,
          1,
          3,
          4,
          3,
          1,
          6,
          6,
          4,
          1,
          6,
          4,
          5,
          2,
          1,
          1,
          1,
          4,
          3,
          6,
          1,
          2,
          1,
          4,
          4,
          3,
          6,
          6,
          4,
          1,
          1,
          6,
          1,
          5,
          1,
          3,
          4,
          4,
          1,
          6,
          4,
          2,
          6,
          6,
          6,
          1,
          4,
          4,
          4,
          4,
          6,
          6,
          1,
          3,
          6,
          6,
          1,
          4,
          5,
          3,
          5,
          2,
          1,
          1,
          1,
          6,
          1,
          5,
          2,
          5,
          2,
          6,
          5,
          3,
          3,
          4,
          5,
          6,
          4,
          2,
          3,
          2,
          1,
          1,
          2,
          3,
          5,
          4,
          5,
          6,
          4,
          3,
          5,
          5,
          2,
          2,
          4,
          3,
          6,
          3,
          3,
          4,
          1,
          5,
          5,
          6,
          6,
          2,
          1,
          3,
          5,
          4,
          1,
          4,
          3,
          2,
          2,
          6,
          2,
          1,
          3,
          2,
          6,
          5,
          6,
          6,
          4,
          6,
          6,
          3,
          5,
          5,
          3,
          6,
          3,
          4,
          3,
          2,
          1,
          4,
          1,
          5,
          2,
          1,
          6,
          2,
          6,
          2,
          4,
          6,
          2,
          3,
          5,
          3,
          4,
          2,
          4,
          2,
          1,
          4,
          1,
          1,
          4,
          1,
          5,
          1,
          1,
          6
         ],
         "z": [
          0,
          0,
          1,
          1,
          1,
          0,
          1,
          1,
          0,
          1,
          0,
          1,
          0,
          1,
          1,
          1,
          0,
          1,
          1,
          0,
          1,
          1,
          0,
          0,
          1,
          1,
          1,
          0,
          1,
          1,
          0,
          1,
          1,
          1,
          1,
          1,
          0,
          1,
          1,
          1,
          0,
          1,
          0,
          1,
          0,
          1,
          1,
          1,
          0,
          0,
          1,
          1,
          1,
          0,
          1,
          1,
          1,
          1,
          1,
          1,
          1,
          1,
          0,
          0,
          1,
          0,
          1,
          1,
          0,
          0,
          1,
          1,
          0,
          0,
          1,
          1,
          1,
          1,
          0,
          0,
          1,
          1,
          0,
          0,
          0,
          1,
          1,
          0,
          1,
          1,
          1,
          1,
          0,
          1,
          1,
          0,
          0,
          1,
          1,
          1,
          1,
          0,
          1,
          1,
          0,
          1,
          1,
          1,
          1,
          1,
          1,
          0,
          0,
          1,
          1,
          0,
          0,
          0,
          1,
          1,
          1,
          1,
          1,
          1,
          1,
          1,
          0,
          0,
          0,
          1,
          0,
          1,
          1,
          1,
          1,
          1,
          1,
          1,
          1,
          1,
          0,
          1,
          0,
          1,
          0,
          0,
          1,
          1,
          1,
          1,
          0,
          1,
          1,
          1,
          1,
          0,
          1,
          1,
          0,
          1,
          1,
          0,
          0,
          0,
          0,
          1,
          1,
          1,
          1,
          1,
          1,
          1,
          1,
          1,
          1,
          0,
          0,
          0,
          1,
          1,
          0,
          1,
          1,
          1,
          1,
          0,
          1,
          1,
          0,
          1,
          0,
          1,
          1,
          1,
          1,
          1,
          1,
          0,
          0,
          1,
          0,
          1,
          1,
          0,
          1,
          1,
          0,
          1,
          1,
          0,
          1,
          1,
          1,
          1,
          1,
          0,
          1,
          1,
          1,
          1,
          1,
          1,
          0,
          0,
          1,
          1,
          1,
          1,
          1,
          0,
          1,
          0,
          0,
          0,
          1,
          1,
          1,
          1,
          0,
          0,
          1,
          1,
          1,
          1,
          1,
          1,
          1,
          0,
          1,
          1,
          1,
          1,
          1,
          1,
          1,
          0,
          1,
          0,
          1,
          1,
          0,
          1,
          1,
          0,
          1,
          1,
          1,
          1,
          1,
          1,
          1,
          1,
          1,
          1,
          1,
          0,
          1,
          0,
          1,
          0,
          1,
          0,
          1,
          1,
          0,
          0,
          1,
          1,
          1,
          1,
          1,
          1,
          1,
          1,
          1,
          1,
          1,
          1,
          1,
          1,
          1,
          0,
          0,
          0,
          1,
          0,
          1,
          0,
          0,
          1,
          1,
          1,
          1,
          0,
          1,
          1,
          1,
          1,
          1,
          0,
          0,
          1,
          0,
          0,
          1,
          1,
          1,
          1,
          1,
          1,
          1,
          1,
          1,
          1,
          0,
          1,
          1,
          1,
          1,
          1,
          1,
          1,
          1,
          0,
          1,
          1,
          1,
          1,
          0,
          0,
          1,
          1,
          1,
          0,
          0,
          1,
          1,
          1,
          1,
          1,
          1,
          1,
          0,
          1,
          1,
          1,
          1,
          1,
          0,
          1,
          1,
          1,
          1,
          1,
          1,
          1,
          1,
          1,
          0,
          1,
          1,
          0,
          0,
          1,
          0,
          0,
          0,
          0,
          1,
          1,
          0,
          1,
          0,
          0,
          0,
          1,
          1,
          1,
          0,
          1,
          0,
          1,
          1,
          0,
          1,
          1,
          0,
          1,
          0,
          1,
          1,
          0,
          1,
          1,
          1,
          1,
          1,
          0,
          0,
          1,
          0,
          1,
          0,
          1,
          1,
          1,
          1,
          1,
          0,
          1,
          1,
          0,
          1,
          1,
          1,
          1,
          1,
          1,
          1,
          1,
          1,
          1,
          1,
          1,
          1,
          0,
          1,
          0,
          1,
          1,
          1,
          1,
          0,
          0,
          0,
          1,
          1,
          1,
          1,
          1,
          1,
          1,
          0,
          1,
          1,
          1,
          1,
          1,
          1,
          1,
          0,
          0,
          0,
          1,
          0,
          1,
          0,
          0,
          1,
          1,
          1,
          1,
          0,
          0,
          1,
          1,
          0,
          0,
          0,
          1,
          0,
          1,
          1,
          0,
          1,
          1,
          1,
          0,
          1,
          0,
          0,
          1,
          1,
          0,
          1,
          1,
          0,
          0,
          1,
          1,
          1,
          1,
          1,
          1,
          1,
          1,
          1,
          1,
          1,
          1,
          1,
          1,
          1,
          1,
          1,
          1,
          1,
          1,
          1,
          1,
          1,
          0,
          1,
          1,
          1,
          1,
          1,
          0,
          1,
          0,
          1,
          1,
          0,
          1,
          1,
          1,
          1,
          0,
          0,
          0,
          1,
          1,
          1,
          1,
          0,
          0,
          1,
          1,
          1,
          1,
          1,
          1,
          0,
          1,
          1,
          0,
          1,
          0,
          0,
          0,
          1,
          1,
          1,
          1,
          1,
          0,
          1,
          1,
          1,
          1,
          1,
          1,
          1,
          1,
          1,
          1,
          1,
          0,
          0,
          1,
          1,
          0,
          0,
          1,
          1,
          0,
          0,
          0,
          1,
          1,
          1,
          1,
          1,
          1,
          1,
          1,
          1,
          0,
          1,
          1,
          1,
          1,
          1,
          1,
          1,
          0,
          0,
          1,
          0,
          1,
          1,
          1,
          1,
          1,
          1,
          1,
          1,
          1,
          0,
          1,
          0,
          1,
          1,
          0,
          1,
          1,
          0,
          1,
          0,
          0,
          1,
          0,
          1,
          1,
          1,
          1,
          1,
          0,
          1,
          0,
          1,
          1,
          1,
          1,
          1,
          0,
          1,
          0,
          1,
          0,
          1,
          0,
          1,
          1,
          1,
          1,
          1,
          1,
          0,
          1,
          1,
          0,
          1,
          0,
          0,
          0,
          1,
          0,
          1,
          1,
          1,
          1,
          1,
          0,
          1,
          1,
          1,
          0,
          0,
          1,
          1,
          1,
          1,
          1,
          0,
          1,
          1,
          1,
          1,
          0,
          1,
          0,
          1,
          1,
          1,
          0,
          1,
          0,
          1,
          1,
          0,
          0,
          1,
          1,
          0,
          0,
          1,
          1,
          1,
          1,
          0,
          0,
          0,
          1,
          1,
          1,
          0,
          1,
          0,
          1,
          1,
          1,
          1,
          1,
          1,
          0,
          1,
          0,
          1,
          1,
          1,
          1,
          0,
          1,
          1,
          1,
          1,
          1,
          0,
          1,
          0,
          0,
          1,
          0,
          1,
          1,
          0,
          1,
          0,
          0,
          0,
          1,
          1,
          1,
          1,
          1,
          1,
          1,
          1,
          1,
          1,
          1,
          1,
          1,
          1,
          0,
          1,
          1,
          1,
          0,
          1,
          1,
          1,
          1,
          1,
          0,
          1,
          0,
          1,
          1,
          1,
          1,
          1,
          1,
          0,
          1,
          0,
          1,
          1,
          1,
          0,
          0,
          0,
          1,
          0,
          1,
          1,
          1,
          1,
          1,
          0,
          1,
          1,
          1,
          1,
          1,
          0,
          1,
          1,
          0,
          1,
          0,
          1,
          1,
          0,
          1,
          1,
          1,
          1,
          1,
          1,
          1,
          1,
          1,
          1,
          1,
          1,
          1,
          1,
          1,
          1,
          0,
          1,
          1,
          0,
          1,
          0,
          0,
          1,
          0,
          1,
          1,
          0,
          1,
          1,
          0,
          0,
          0,
          1,
          1,
          1,
          1,
          1,
          1,
          1,
          0,
          0,
          1,
          1,
          0,
          0,
          1,
          1,
          0,
          1,
          1,
          1,
          1,
          1,
          0,
          1,
          0,
          1,
          1,
          0,
          0,
          1,
          1,
          1,
          1,
          1,
          1,
          1,
          0,
          0,
          1,
          1,
          0,
          1,
          0,
          0,
          0,
          1,
          1,
          1,
          1,
          0,
          0,
          1,
          1,
          1,
          1,
          1,
          1,
          0,
          1,
          0,
          1,
          1,
          1,
          0,
          1,
          1,
          1,
          1,
          1,
          1,
          1,
          1,
          1,
          1,
          1,
          0,
          1,
          1,
          1,
          1,
          1,
          0,
          1,
          1,
          1,
          0,
          0,
          1,
          0,
          1,
          1,
          0,
          1,
          0,
          1,
          1,
          1,
          0,
          1,
          1,
          0,
          1,
          1,
          0,
          1,
          1,
          1,
          1,
          1,
          1,
          1,
          0,
          1,
          1,
          0,
          1,
          0,
          1,
          0,
          0,
          1,
          0,
          0,
          1,
          1,
          1,
          1,
          0,
          1,
          1,
          1,
          1,
          1,
          0,
          0,
          1,
          1,
          1,
          1,
          0,
          1,
          1,
          1,
          1,
          1
         ]
        }
       ],
       "layout": {
        "coloraxis": {
         "colorbar": {
          "title": {
           "text": "Is Fraud"
          }
         },
         "colorscale": [
          [
           0,
           "#0d0887"
          ],
          [
           0.1111111111111111,
           "#46039f"
          ],
          [
           0.2222222222222222,
           "#7201a8"
          ],
          [
           0.3333333333333333,
           "#9c179e"
          ],
          [
           0.4444444444444444,
           "#bd3786"
          ],
          [
           0.5555555555555556,
           "#d8576b"
          ],
          [
           0.6666666666666666,
           "#ed7953"
          ],
          [
           0.7777777777777778,
           "#fb9f3a"
          ],
          [
           0.8888888888888888,
           "#fdca26"
          ],
          [
           1,
           "#f0f921"
          ]
         ]
        },
        "legend": {
         "tracegroupgap": 0
        },
        "scene": {
         "domain": {
          "x": [
           0,
           1
          ],
          "y": [
           0,
           1
          ]
         },
         "xaxis": {
          "title": {
           "text": "TransactionAmount"
          }
         },
         "yaxis": {
          "title": {
           "text": "TransactionMonth"
          }
         },
         "zaxis": {
          "title": {
           "text": "Is Fraud"
          }
         }
        },
        "template": {
         "data": {
          "bar": [
           {
            "error_x": {
             "color": "#2a3f5f"
            },
            "error_y": {
             "color": "#2a3f5f"
            },
            "marker": {
             "line": {
              "color": "#E5ECF6",
              "width": 0.5
             },
             "pattern": {
              "fillmode": "overlay",
              "size": 10,
              "solidity": 0.2
             }
            },
            "type": "bar"
           }
          ],
          "barpolar": [
           {
            "marker": {
             "line": {
              "color": "#E5ECF6",
              "width": 0.5
             },
             "pattern": {
              "fillmode": "overlay",
              "size": 10,
              "solidity": 0.2
             }
            },
            "type": "barpolar"
           }
          ],
          "carpet": [
           {
            "aaxis": {
             "endlinecolor": "#2a3f5f",
             "gridcolor": "white",
             "linecolor": "white",
             "minorgridcolor": "white",
             "startlinecolor": "#2a3f5f"
            },
            "baxis": {
             "endlinecolor": "#2a3f5f",
             "gridcolor": "white",
             "linecolor": "white",
             "minorgridcolor": "white",
             "startlinecolor": "#2a3f5f"
            },
            "type": "carpet"
           }
          ],
          "choropleth": [
           {
            "colorbar": {
             "outlinewidth": 0,
             "ticks": ""
            },
            "type": "choropleth"
           }
          ],
          "contour": [
           {
            "colorbar": {
             "outlinewidth": 0,
             "ticks": ""
            },
            "colorscale": [
             [
              0,
              "#0d0887"
             ],
             [
              0.1111111111111111,
              "#46039f"
             ],
             [
              0.2222222222222222,
              "#7201a8"
             ],
             [
              0.3333333333333333,
              "#9c179e"
             ],
             [
              0.4444444444444444,
              "#bd3786"
             ],
             [
              0.5555555555555556,
              "#d8576b"
             ],
             [
              0.6666666666666666,
              "#ed7953"
             ],
             [
              0.7777777777777778,
              "#fb9f3a"
             ],
             [
              0.8888888888888888,
              "#fdca26"
             ],
             [
              1,
              "#f0f921"
             ]
            ],
            "type": "contour"
           }
          ],
          "contourcarpet": [
           {
            "colorbar": {
             "outlinewidth": 0,
             "ticks": ""
            },
            "type": "contourcarpet"
           }
          ],
          "heatmap": [
           {
            "colorbar": {
             "outlinewidth": 0,
             "ticks": ""
            },
            "colorscale": [
             [
              0,
              "#0d0887"
             ],
             [
              0.1111111111111111,
              "#46039f"
             ],
             [
              0.2222222222222222,
              "#7201a8"
             ],
             [
              0.3333333333333333,
              "#9c179e"
             ],
             [
              0.4444444444444444,
              "#bd3786"
             ],
             [
              0.5555555555555556,
              "#d8576b"
             ],
             [
              0.6666666666666666,
              "#ed7953"
             ],
             [
              0.7777777777777778,
              "#fb9f3a"
             ],
             [
              0.8888888888888888,
              "#fdca26"
             ],
             [
              1,
              "#f0f921"
             ]
            ],
            "type": "heatmap"
           }
          ],
          "heatmapgl": [
           {
            "colorbar": {
             "outlinewidth": 0,
             "ticks": ""
            },
            "colorscale": [
             [
              0,
              "#0d0887"
             ],
             [
              0.1111111111111111,
              "#46039f"
             ],
             [
              0.2222222222222222,
              "#7201a8"
             ],
             [
              0.3333333333333333,
              "#9c179e"
             ],
             [
              0.4444444444444444,
              "#bd3786"
             ],
             [
              0.5555555555555556,
              "#d8576b"
             ],
             [
              0.6666666666666666,
              "#ed7953"
             ],
             [
              0.7777777777777778,
              "#fb9f3a"
             ],
             [
              0.8888888888888888,
              "#fdca26"
             ],
             [
              1,
              "#f0f921"
             ]
            ],
            "type": "heatmapgl"
           }
          ],
          "histogram": [
           {
            "marker": {
             "pattern": {
              "fillmode": "overlay",
              "size": 10,
              "solidity": 0.2
             }
            },
            "type": "histogram"
           }
          ],
          "histogram2d": [
           {
            "colorbar": {
             "outlinewidth": 0,
             "ticks": ""
            },
            "colorscale": [
             [
              0,
              "#0d0887"
             ],
             [
              0.1111111111111111,
              "#46039f"
             ],
             [
              0.2222222222222222,
              "#7201a8"
             ],
             [
              0.3333333333333333,
              "#9c179e"
             ],
             [
              0.4444444444444444,
              "#bd3786"
             ],
             [
              0.5555555555555556,
              "#d8576b"
             ],
             [
              0.6666666666666666,
              "#ed7953"
             ],
             [
              0.7777777777777778,
              "#fb9f3a"
             ],
             [
              0.8888888888888888,
              "#fdca26"
             ],
             [
              1,
              "#f0f921"
             ]
            ],
            "type": "histogram2d"
           }
          ],
          "histogram2dcontour": [
           {
            "colorbar": {
             "outlinewidth": 0,
             "ticks": ""
            },
            "colorscale": [
             [
              0,
              "#0d0887"
             ],
             [
              0.1111111111111111,
              "#46039f"
             ],
             [
              0.2222222222222222,
              "#7201a8"
             ],
             [
              0.3333333333333333,
              "#9c179e"
             ],
             [
              0.4444444444444444,
              "#bd3786"
             ],
             [
              0.5555555555555556,
              "#d8576b"
             ],
             [
              0.6666666666666666,
              "#ed7953"
             ],
             [
              0.7777777777777778,
              "#fb9f3a"
             ],
             [
              0.8888888888888888,
              "#fdca26"
             ],
             [
              1,
              "#f0f921"
             ]
            ],
            "type": "histogram2dcontour"
           }
          ],
          "mesh3d": [
           {
            "colorbar": {
             "outlinewidth": 0,
             "ticks": ""
            },
            "type": "mesh3d"
           }
          ],
          "parcoords": [
           {
            "line": {
             "colorbar": {
              "outlinewidth": 0,
              "ticks": ""
             }
            },
            "type": "parcoords"
           }
          ],
          "pie": [
           {
            "automargin": true,
            "type": "pie"
           }
          ],
          "scatter": [
           {
            "fillpattern": {
             "fillmode": "overlay",
             "size": 10,
             "solidity": 0.2
            },
            "type": "scatter"
           }
          ],
          "scatter3d": [
           {
            "line": {
             "colorbar": {
              "outlinewidth": 0,
              "ticks": ""
             }
            },
            "marker": {
             "colorbar": {
              "outlinewidth": 0,
              "ticks": ""
             }
            },
            "type": "scatter3d"
           }
          ],
          "scattercarpet": [
           {
            "marker": {
             "colorbar": {
              "outlinewidth": 0,
              "ticks": ""
             }
            },
            "type": "scattercarpet"
           }
          ],
          "scattergeo": [
           {
            "marker": {
             "colorbar": {
              "outlinewidth": 0,
              "ticks": ""
             }
            },
            "type": "scattergeo"
           }
          ],
          "scattergl": [
           {
            "marker": {
             "colorbar": {
              "outlinewidth": 0,
              "ticks": ""
             }
            },
            "type": "scattergl"
           }
          ],
          "scattermapbox": [
           {
            "marker": {
             "colorbar": {
              "outlinewidth": 0,
              "ticks": ""
             }
            },
            "type": "scattermapbox"
           }
          ],
          "scatterpolar": [
           {
            "marker": {
             "colorbar": {
              "outlinewidth": 0,
              "ticks": ""
             }
            },
            "type": "scatterpolar"
           }
          ],
          "scatterpolargl": [
           {
            "marker": {
             "colorbar": {
              "outlinewidth": 0,
              "ticks": ""
             }
            },
            "type": "scatterpolargl"
           }
          ],
          "scatterternary": [
           {
            "marker": {
             "colorbar": {
              "outlinewidth": 0,
              "ticks": ""
             }
            },
            "type": "scatterternary"
           }
          ],
          "surface": [
           {
            "colorbar": {
             "outlinewidth": 0,
             "ticks": ""
            },
            "colorscale": [
             [
              0,
              "#0d0887"
             ],
             [
              0.1111111111111111,
              "#46039f"
             ],
             [
              0.2222222222222222,
              "#7201a8"
             ],
             [
              0.3333333333333333,
              "#9c179e"
             ],
             [
              0.4444444444444444,
              "#bd3786"
             ],
             [
              0.5555555555555556,
              "#d8576b"
             ],
             [
              0.6666666666666666,
              "#ed7953"
             ],
             [
              0.7777777777777778,
              "#fb9f3a"
             ],
             [
              0.8888888888888888,
              "#fdca26"
             ],
             [
              1,
              "#f0f921"
             ]
            ],
            "type": "surface"
           }
          ],
          "table": [
           {
            "cells": {
             "fill": {
              "color": "#EBF0F8"
             },
             "line": {
              "color": "white"
             }
            },
            "header": {
             "fill": {
              "color": "#C8D4E3"
             },
             "line": {
              "color": "white"
             }
            },
            "type": "table"
           }
          ]
         },
         "layout": {
          "annotationdefaults": {
           "arrowcolor": "#2a3f5f",
           "arrowhead": 0,
           "arrowwidth": 1
          },
          "autotypenumbers": "strict",
          "coloraxis": {
           "colorbar": {
            "outlinewidth": 0,
            "ticks": ""
           }
          },
          "colorscale": {
           "diverging": [
            [
             0,
             "#8e0152"
            ],
            [
             0.1,
             "#c51b7d"
            ],
            [
             0.2,
             "#de77ae"
            ],
            [
             0.3,
             "#f1b6da"
            ],
            [
             0.4,
             "#fde0ef"
            ],
            [
             0.5,
             "#f7f7f7"
            ],
            [
             0.6,
             "#e6f5d0"
            ],
            [
             0.7,
             "#b8e186"
            ],
            [
             0.8,
             "#7fbc41"
            ],
            [
             0.9,
             "#4d9221"
            ],
            [
             1,
             "#276419"
            ]
           ],
           "sequential": [
            [
             0,
             "#0d0887"
            ],
            [
             0.1111111111111111,
             "#46039f"
            ],
            [
             0.2222222222222222,
             "#7201a8"
            ],
            [
             0.3333333333333333,
             "#9c179e"
            ],
            [
             0.4444444444444444,
             "#bd3786"
            ],
            [
             0.5555555555555556,
             "#d8576b"
            ],
            [
             0.6666666666666666,
             "#ed7953"
            ],
            [
             0.7777777777777778,
             "#fb9f3a"
            ],
            [
             0.8888888888888888,
             "#fdca26"
            ],
            [
             1,
             "#f0f921"
            ]
           ],
           "sequentialminus": [
            [
             0,
             "#0d0887"
            ],
            [
             0.1111111111111111,
             "#46039f"
            ],
            [
             0.2222222222222222,
             "#7201a8"
            ],
            [
             0.3333333333333333,
             "#9c179e"
            ],
            [
             0.4444444444444444,
             "#bd3786"
            ],
            [
             0.5555555555555556,
             "#d8576b"
            ],
            [
             0.6666666666666666,
             "#ed7953"
            ],
            [
             0.7777777777777778,
             "#fb9f3a"
            ],
            [
             0.8888888888888888,
             "#fdca26"
            ],
            [
             1,
             "#f0f921"
            ]
           ]
          },
          "colorway": [
           "#636efa",
           "#EF553B",
           "#00cc96",
           "#ab63fa",
           "#FFA15A",
           "#19d3f3",
           "#FF6692",
           "#B6E880",
           "#FF97FF",
           "#FECB52"
          ],
          "font": {
           "color": "#2a3f5f"
          },
          "geo": {
           "bgcolor": "white",
           "lakecolor": "white",
           "landcolor": "#E5ECF6",
           "showlakes": true,
           "showland": true,
           "subunitcolor": "white"
          },
          "hoverlabel": {
           "align": "left"
          },
          "hovermode": "closest",
          "mapbox": {
           "style": "light"
          },
          "paper_bgcolor": "white",
          "plot_bgcolor": "#E5ECF6",
          "polar": {
           "angularaxis": {
            "gridcolor": "white",
            "linecolor": "white",
            "ticks": ""
           },
           "bgcolor": "#E5ECF6",
           "radialaxis": {
            "gridcolor": "white",
            "linecolor": "white",
            "ticks": ""
           }
          },
          "scene": {
           "xaxis": {
            "backgroundcolor": "#E5ECF6",
            "gridcolor": "white",
            "gridwidth": 2,
            "linecolor": "white",
            "showbackground": true,
            "ticks": "",
            "zerolinecolor": "white"
           },
           "yaxis": {
            "backgroundcolor": "#E5ECF6",
            "gridcolor": "white",
            "gridwidth": 2,
            "linecolor": "white",
            "showbackground": true,
            "ticks": "",
            "zerolinecolor": "white"
           },
           "zaxis": {
            "backgroundcolor": "#E5ECF6",
            "gridcolor": "white",
            "gridwidth": 2,
            "linecolor": "white",
            "showbackground": true,
            "ticks": "",
            "zerolinecolor": "white"
           }
          },
          "shapedefaults": {
           "line": {
            "color": "#2a3f5f"
           }
          },
          "ternary": {
           "aaxis": {
            "gridcolor": "white",
            "linecolor": "white",
            "ticks": ""
           },
           "baxis": {
            "gridcolor": "white",
            "linecolor": "white",
            "ticks": ""
           },
           "bgcolor": "#E5ECF6",
           "caxis": {
            "gridcolor": "white",
            "linecolor": "white",
            "ticks": ""
           }
          },
          "title": {
           "x": 0.05
          },
          "xaxis": {
           "automargin": true,
           "gridcolor": "white",
           "linecolor": "white",
           "ticks": "",
           "title": {
            "standoff": 15
           },
           "zerolinecolor": "white",
           "zerolinewidth": 2
          },
          "yaxis": {
           "automargin": true,
           "gridcolor": "white",
           "linecolor": "white",
           "ticks": "",
           "title": {
            "standoff": 15
           },
           "zerolinecolor": "white",
           "zerolinewidth": 2
          }
         }
        },
        "title": {
         "text": "3D Plot of Amount, Month, and IsFraud"
        }
       }
      }
     },
     "metadata": {},
     "output_type": "display_data"
    }
   ],
   "source": [
    "#3D plot of Amount, Month, and IsFraud\n",
    "import plotly.express as px\n",
    "fig = px.scatter_3d(df, x='Amount', y='Month', z='IsFraud', color='IsFraud',\n",
    "                    hover_data=['Currency', 'MerchantCategory', 'Location'],\n",
    "                    labels={'Amount': 'TransactionAmount', 'Month': 'TransactionMonth', 'IsFraud': 'Is Fraud'},\n",
    "                    title='3D Plot of Amount, Month, and IsFraud')\n",
    "fig.show()  "
   ]
  },
  {
   "cell_type": "code",
   "execution_count": 792,
   "id": "384e4417",
   "metadata": {},
   "outputs": [
    {
     "name": "stdout",
     "output_type": "stream",
     "text": [
      "Percentage of fraud cases:\n",
      "IsFraud\n",
      "1    70.558882\n",
      "0    29.441118\n",
      "Name: proportion, dtype: float64\n"
     ]
    }
   ],
   "source": [
    "#Check for percentage of fraud cases\n",
    "fraud_percentage = df['IsFraud'].value_counts(normalize=True) * 100\n",
    "print(f\"Percentage of fraud cases:\\n{fraud_percentage}\")    "
   ]
  },
  {
   "cell_type": "code",
   "execution_count": 793,
   "id": "14e2fb96",
   "metadata": {},
   "outputs": [
    {
     "data": {
      "image/png": "[encoded data removed]",
      "text/plain": [
       "<Figure size 640x480 with 1 Axes>"
      ]
     },
     "metadata": {},
     "output_type": "display_data"
    }
   ],
   "source": [
    "#Visualization of the percentage of fraud cases before normalization\n",
    "sns.countplot(data=df, x='IsFraud', palette='viridis')\n",
    "plt.title('Class Distribution of IsFraud')\n",
    "plt.xlabel('Is Fraud')\n",
    "plt.ylabel('Count')\n",
    "plt.tight_layout()\n",
    "plt.show()  "
   ]
  },
  {
   "cell_type": "code",
   "execution_count": 794,
   "id": "338103b5",
   "metadata": {},
   "outputs": [
    {
     "name": "stdout",
     "output_type": "stream",
     "text": [
      "IsFraud\n",
      "1    50.0\n",
      "0    50.0\n",
      "Name: proportion, dtype: float64\n"
     ]
    }
   ],
   "source": [
    "#Normalize the 'IsFraud' column to have a balanced distribution so that the model isn't biased towards the majority class.\n",
    "#Using upsampling to balance the classes    \n",
    "from sklearn.utils import resample\n",
    "# Separate majority and minority classes    \n",
    "df_majority = df[df['IsFraud'] == 1]\n",
    "df_minority = df[df['IsFraud'] == 0]\n",
    "# Upsample minority class\n",
    "df_minority_upsampled = resample(df_minority, \n",
    "                                 replace=True,     # Sample with replacement\n",
    "                                 n_samples=len(df_majority),    # Match number in majority class\n",
    "                                 random_state=42)  # Reproducible results\n",
    "# Combine majority class with upsampled minority class\n",
    "df = pd.concat([df_majority, df_minority_upsampled])\n",
    "# Check new class distribution\n",
    "print(df['IsFraud'].value_counts(normalize=True) * 100) \n"
   ]
  },
  {
   "cell_type": "code",
   "execution_count": 795,
   "id": "3e84edca",
   "metadata": {},
   "outputs": [
    {
     "data": {
      "image/png": "[encoded data removed]",
      "text/plain": [
       "<Figure size 640x480 with 1 Axes>"
      ]
     },
     "metadata": {},
     "output_type": "display_data"
    }
   ],
   "source": [
    "#Visualization after normalization\n",
    "sns.countplot(data=df, x='IsFraud', palette='viridis')\n",
    "plt.title('Class Distribution of IsFraud After Normalization')\n",
    "plt.xlabel('Is Fraud')\n",
    "plt.ylabel('Count')\n",
    "plt.tight_layout()\n",
    "plt.show()  "
   ]
  }
 ],
 "metadata": {
  "kernelspec": {
   "display_name": "Python (base: conda)",
   "language": "python",
   "name": "base"
  },
  "language_info": {
   "codemirror_mode": {
    "name": "ipython",
    "version": 3
   },
   "file_extension": ".py",
   "mimetype": "text/x-python",
   "name": "python",
   "nbconvert_exporter": "python",
   "pygments_lexer": "ipython3",
   "version": "3.12.4"
  }
 },
 "nbformat": 4,
 "nbformat_minor": 5
}
